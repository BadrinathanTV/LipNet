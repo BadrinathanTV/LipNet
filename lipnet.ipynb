{
 "cells": [
  {
   "cell_type": "code",
   "execution_count": 2,
   "id": "6f104a17",
   "metadata": {},
   "outputs": [],
   "source": [
    "import os\n",
    "import cv2\n",
    "import tensorflow as tf\n",
    "import numpy as np\n",
    "from typing import List\n",
    "from matplotlib import pyplot as plt\n",
    "import imageio\n",
    "import gdown"
   ]
  },
  {
   "cell_type": "code",
   "execution_count": 3,
   "id": "acec364f",
   "metadata": {},
   "outputs": [],
   "source": [
    "gpus = tf.config.experimental.list_physical_devices('GPU')\n",
    "for gpu in gpus:\n",
    "    tf.config.experimental.set_memory_growth(gpu,True)"
   ]
  },
  {
   "cell_type": "code",
   "execution_count": 4,
   "id": "19cab139",
   "metadata": {},
   "outputs": [
    {
     "data": {
      "text/plain": [
       "\"\\nurl = 'https://drive.google.com/uc?id=1YlvpDLix3S-U8fd-gqRwPcWXAXm8JwjL'\\noutput = 'data.zip'\\ngdown.download(url, output, quiet=False)\\ngdown.extractall('data.zip')\\n\""
      ]
     },
     "execution_count": 4,
     "metadata": {},
     "output_type": "execute_result"
    }
   ],
   "source": [
    "\"\"\"\n",
    "url = 'https://drive.google.com/uc?id=1YlvpDLix3S-U8fd-gqRwPcWXAXm8JwjL'\n",
    "output = 'data.zip'\n",
    "gdown.download(url, output, quiet=False)\n",
    "gdown.extractall('data.zip')\n",
    "\"\"\""
   ]
  },
  {
   "cell_type": "code",
   "execution_count": 5,
   "id": "a99e8d43",
   "metadata": {},
   "outputs": [],
   "source": [
    "def load_video(path: str) -> tf.Tensor:\n",
    "    cap = cv2.VideoCapture(path)\n",
    "    frames = []\n",
    "\n",
    "    while True:\n",
    "        ret, frame = cap.read()\n",
    "        if not ret:\n",
    "            break\n",
    "        frame = tf.image.rgb_to_grayscale(frame)\n",
    "        cropped = frame[190:236, 80:220, :]\n",
    "        frames.append(cropped)\n",
    "\n",
    "    cap.release()\n",
    "\n",
    "    frames = tf.stack(frames)\n",
    "    frames = tf.cast(frames, tf.float32)\n",
    "    mean = tf.reduce_mean(frames)\n",
    "    std = tf.math.reduce_std(frames)\n",
    "\n",
    "    normalized = (frames - mean) / (std + 1e-6)\n",
    "    return normalized\n"
   ]
  },
  {
   "cell_type": "code",
   "execution_count": 6,
   "id": "429768cd",
   "metadata": {},
   "outputs": [],
   "source": [
    "vocab = [x for x in \"abcdefghijklmnopqrstuvwxyz'?!123456789 \"]"
   ]
  },
  {
   "cell_type": "code",
   "execution_count": 7,
   "id": "38f8201f",
   "metadata": {},
   "outputs": [
    {
     "name": "stdout",
     "output_type": "stream",
     "text": [
      "The vocabulary is: ['', 'a', 'b', 'c', 'd', 'e', 'f', 'g', 'h', 'i', 'j', 'k', 'l', 'm', 'n', 'o', 'p', 'q', 'r', 's', 't', 'u', 'v', 'w', 'x', 'y', 'z', \"'\", '?', '!', '1', '2', '3', '4', '5', '6', '7', '8', '9', ' '] (size =40)\n"
     ]
    }
   ],
   "source": [
    "char_to_num = tf.keras.layers.StringLookup(vocabulary=vocab, oov_token=\"\")\n",
    "num_to_char = tf.keras.layers.StringLookup(\n",
    "    vocabulary=char_to_num.get_vocabulary(), oov_token=\"\", invert=True\n",
    ")\n",
    "\n",
    "print(\n",
    "    f\"The vocabulary is: {char_to_num.get_vocabulary()} \"\n",
    "    f\"(size ={char_to_num.vocabulary_size()})\"\n",
    ")"
   ]
  },
  {
   "cell_type": "code",
   "execution_count": 8,
   "id": "e056dd3d",
   "metadata": {},
   "outputs": [
    {
     "data": {
      "text/plain": [
       "['',\n",
       " 'a',\n",
       " 'b',\n",
       " 'c',\n",
       " 'd',\n",
       " 'e',\n",
       " 'f',\n",
       " 'g',\n",
       " 'h',\n",
       " 'i',\n",
       " 'j',\n",
       " 'k',\n",
       " 'l',\n",
       " 'm',\n",
       " 'n',\n",
       " 'o',\n",
       " 'p',\n",
       " 'q',\n",
       " 'r',\n",
       " 's',\n",
       " 't',\n",
       " 'u',\n",
       " 'v',\n",
       " 'w',\n",
       " 'x',\n",
       " 'y',\n",
       " 'z',\n",
       " \"'\",\n",
       " '?',\n",
       " '!',\n",
       " '1',\n",
       " '2',\n",
       " '3',\n",
       " '4',\n",
       " '5',\n",
       " '6',\n",
       " '7',\n",
       " '8',\n",
       " '9',\n",
       " ' ']"
      ]
     },
     "execution_count": 8,
     "metadata": {},
     "output_type": "execute_result"
    }
   ],
   "source": [
    "char_to_num.get_vocabulary()"
   ]
  },
  {
   "cell_type": "code",
   "execution_count": 9,
   "id": "ab7e5e23",
   "metadata": {},
   "outputs": [
    {
     "data": {
      "text/plain": [
       "<tf.Tensor: shape=(4,), dtype=int64, numpy=array([14,  9,  3, 11], dtype=int64)>"
      ]
     },
     "execution_count": 9,
     "metadata": {},
     "output_type": "execute_result"
    }
   ],
   "source": [
    "char_to_num(['n','i','c','k'])"
   ]
  },
  {
   "cell_type": "code",
   "execution_count": 10,
   "id": "1efdc125",
   "metadata": {},
   "outputs": [
    {
     "data": {
      "text/plain": [
       "<tf.Tensor: shape=(4,), dtype=string, numpy=array([b'n', b'i', b'c', b'k'], dtype=object)>"
      ]
     },
     "execution_count": 10,
     "metadata": {},
     "output_type": "execute_result"
    }
   ],
   "source": [
    "num_to_char([14,  9,  3, 11])"
   ]
  },
  {
   "cell_type": "code",
   "execution_count": 11,
   "id": "45303d7d",
   "metadata": {},
   "outputs": [],
   "source": [
    "def load_alignments(path:str) -> List[str]: \n",
    "    with open(path, 'r') as f: \n",
    "        lines = f.readlines() \n",
    "    tokens = []\n",
    "    for line in lines:\n",
    "        line = line.split()\n",
    "        if line[2] != 'sil': \n",
    "            tokens = [*tokens,' ',line[2]]\n",
    "    return char_to_num(tf.reshape(tf.strings.unicode_split(tokens, input_encoding='UTF-8'), (-1)))[1:]"
   ]
  },
  {
   "cell_type": "code",
   "execution_count": 12,
   "id": "004356ff",
   "metadata": {},
   "outputs": [],
   "source": [
    "def load_data(path: str): \n",
    "    path = bytes.decode(path.numpy())\n",
    "    #file_name = path.split('/')[-1].split('.')[0]\n",
    "    # File name splitting for windows\n",
    "    file_name = path.split('\\\\')[-1].split('.')[0]\n",
    "    video_path = os.path.join('data','s1',f'{file_name}.mpg')\n",
    "    alignment_path = os.path.join('data','alignments','s1',f'{file_name}.align')\n",
    "    frames = load_video(video_path) \n",
    "    alignments = load_alignments(alignment_path)\n",
    "    return frames, alignments"
   ]
  },
  {
   "cell_type": "code",
   "execution_count": 13,
   "id": "d3130ae7",
   "metadata": {},
   "outputs": [],
   "source": [
    "test_path = '.\\\\data\\\\s1\\\\bbal6n.mpg'"
   ]
  },
  {
   "cell_type": "code",
   "execution_count": 14,
   "id": "945bc3d7",
   "metadata": {},
   "outputs": [
    {
     "data": {
      "text/plain": [
       "'bbal6n'"
      ]
     },
     "execution_count": 14,
     "metadata": {},
     "output_type": "execute_result"
    }
   ],
   "source": [
    "tf.convert_to_tensor(test_path).numpy().decode('utf-8').split('\\\\')[-1].split('.')[0]"
   ]
  },
  {
   "cell_type": "code",
   "execution_count": 15,
   "id": "f2bf6287",
   "metadata": {},
   "outputs": [],
   "source": [
    "frames, alignments = load_data(tf.convert_to_tensor(test_path))"
   ]
  },
  {
   "cell_type": "code",
   "execution_count": 16,
   "id": "f0d8bfe5",
   "metadata": {},
   "outputs": [
    {
     "data": {
      "text/plain": [
       "<matplotlib.image.AxesImage at 0x1bf1eab2d30>"
      ]
     },
     "execution_count": 16,
     "metadata": {},
     "output_type": "execute_result"
    },
    {
     "data": {
      "image/png": "[encoded data removed]",
      "text/plain": [
       "<Figure size 640x480 with 1 Axes>"
      ]
     },
     "metadata": {},
     "output_type": "display_data"
    }
   ],
   "source": [
    "plt.imshow(frames[40])"
   ]
  },
  {
   "cell_type": "code",
   "execution_count": 17,
   "id": "8dcc63ba",
   "metadata": {},
   "outputs": [
    {
     "data": {
      "text/plain": [
       "<tf.Tensor: shape=(21,), dtype=int64, numpy=\n",
       "array([ 2,  9, 14, 39,  2, 12, 21,  5, 39,  1, 20, 39, 12, 39, 19,  9, 24,\n",
       "       39, 14, 15, 23], dtype=int64)>"
      ]
     },
     "execution_count": 17,
     "metadata": {},
     "output_type": "execute_result"
    }
   ],
   "source": [
    "alignments"
   ]
  },
  {
   "cell_type": "code",
   "execution_count": 18,
   "id": "6cb0359f",
   "metadata": {},
   "outputs": [
    {
     "data": {
      "text/plain": [
       "<tf.Tensor: shape=(), dtype=string, numpy=b'bin blue at l six now'>"
      ]
     },
     "execution_count": 18,
     "metadata": {},
     "output_type": "execute_result"
    }
   ],
   "source": [
    "tf.strings.reduce_join([bytes.decode(x) for x in num_to_char(alignments.numpy()).numpy()])"
   ]
  },
  {
   "cell_type": "code",
   "execution_count": 19,
   "id": "65c20658",
   "metadata": {},
   "outputs": [],
   "source": [
    "def mappable_function(path:str) ->List[str]:\n",
    "    result = tf.py_function(load_data, [path], (tf.float32, tf.int64))\n",
    "    return result"
   ]
  },
  {
   "cell_type": "markdown",
   "id": "7a02f26d",
   "metadata": {},
   "source": [
    "2. Data pipeline"
   ]
  },
  {
   "cell_type": "code",
   "execution_count": 20,
   "id": "90187403",
   "metadata": {},
   "outputs": [],
   "source": [
    "from matplotlib import pyplot as plt"
   ]
  },
  {
   "cell_type": "code",
   "execution_count": 21,
   "id": "8cb0877a",
   "metadata": {},
   "outputs": [],
   "source": [
    "data = tf.data.Dataset.list_files('./data/s1/*.mpg')\n",
    "data = data.shuffle(500, reshuffle_each_iteration=False)\n",
    "data = data.map(mappable_function)\n",
    "data = data.padded_batch(2, padded_shapes=([75,None,None,None],[40]))\n",
    "data = data.prefetch(tf.data.AUTOTUNE)\n",
    "# Added for split \n",
    "train = data.take(450)\n",
    "test = data.skip(450)"
   ]
  },
  {
   "cell_type": "code",
   "execution_count": 22,
   "id": "a8c3ba36",
   "metadata": {},
   "outputs": [
    {
     "data": {
      "text/plain": [
       "50"
      ]
     },
     "execution_count": 22,
     "metadata": {},
     "output_type": "execute_result"
    }
   ],
   "source": [
    "len(test)"
   ]
  },
  {
   "cell_type": "code",
   "execution_count": 23,
   "id": "b6096838",
   "metadata": {},
   "outputs": [],
   "source": [
    "frames, alignments = data.as_numpy_iterator().next()"
   ]
  },
  {
   "cell_type": "code",
   "execution_count": 24,
   "id": "d300fa28",
   "metadata": {},
   "outputs": [
    {
     "data": {
      "text/plain": [
       "2"
      ]
     },
     "execution_count": 24,
     "metadata": {},
     "output_type": "execute_result"
    }
   ],
   "source": [
    "len(frames)"
   ]
  },
  {
   "cell_type": "code",
   "execution_count": 25,
   "id": "d2cc2c46",
   "metadata": {},
   "outputs": [],
   "source": [
    "sample = data.as_numpy_iterator()"
   ]
  },
  {
   "cell_type": "code",
   "execution_count": 26,
   "id": "42c3356a",
   "metadata": {},
   "outputs": [
    {
     "data": {
      "text/plain": [
       "array([[[[[ 1.4327282 ],\n",
       "          [ 1.3151058 ],\n",
       "          [ 1.1974835 ],\n",
       "          ...,\n",
       "          [ 0.25650492],\n",
       "          [ 0.2172975 ],\n",
       "          [ 0.2172975 ]],\n",
       "\n",
       "         [[ 1.2758983 ],\n",
       "          [ 1.4327282 ],\n",
       "          [ 1.1190686 ],\n",
       "          ...,\n",
       "          [ 0.25650492],\n",
       "          [ 0.2172975 ],\n",
       "          [ 0.2172975 ]],\n",
       "\n",
       "         [[ 1.6287653 ],\n",
       "          [ 1.6287653 ],\n",
       "          [ 1.4327282 ],\n",
       "          ...,\n",
       "          [ 0.29571238],\n",
       "          [ 0.25650492],\n",
       "          [ 0.25650492]],\n",
       "\n",
       "         ...,\n",
       "\n",
       "         [[ 1.0406537 ],\n",
       "          [ 1.0406537 ],\n",
       "          [ 1.0406537 ],\n",
       "          ...,\n",
       "          [-0.05715458],\n",
       "          [-0.05715458],\n",
       "          [-0.05715458]],\n",
       "\n",
       "         [[ 1.0406537 ],\n",
       "          [ 1.0406537 ],\n",
       "          [ 1.0406537 ],\n",
       "          ...,\n",
       "          [-0.05715458],\n",
       "          [-0.05715458],\n",
       "          [-0.05715458]],\n",
       "\n",
       "         [[ 1.0406537 ],\n",
       "          [ 1.0406537 ],\n",
       "          [ 1.0406537 ],\n",
       "          ...,\n",
       "          [-0.05715458],\n",
       "          [-0.05715458],\n",
       "          [-0.05715458]]],\n",
       "\n",
       "\n",
       "        [[[ 1.4327282 ],\n",
       "          [ 1.2366909 ],\n",
       "          [ 1.2366909 ],\n",
       "          ...,\n",
       "          [ 0.25650492],\n",
       "          [ 0.2172975 ],\n",
       "          [ 0.2172975 ]],\n",
       "\n",
       "         [[ 1.2366909 ],\n",
       "          [ 1.3151058 ],\n",
       "          [ 1.1190686 ],\n",
       "          ...,\n",
       "          [ 0.25650492],\n",
       "          [ 0.2172975 ],\n",
       "          [ 0.2172975 ]],\n",
       "\n",
       "         [[ 1.5503504 ],\n",
       "          [ 1.5503504 ],\n",
       "          [ 1.4327282 ],\n",
       "          ...,\n",
       "          [ 0.29571238],\n",
       "          [ 0.25650492],\n",
       "          [ 0.25650492]],\n",
       "\n",
       "         ...,\n",
       "\n",
       "         [[ 1.0014462 ],\n",
       "          [ 1.0014462 ],\n",
       "          [ 1.0014462 ],\n",
       "          ...,\n",
       "          [-0.05715458],\n",
       "          [-0.05715458],\n",
       "          [-0.05715458]],\n",
       "\n",
       "         [[ 1.0014462 ],\n",
       "          [ 1.0014462 ],\n",
       "          [ 1.0014462 ],\n",
       "          ...,\n",
       "          [-0.05715458],\n",
       "          [-0.05715458],\n",
       "          [-0.05715458]],\n",
       "\n",
       "         [[ 1.0014462 ],\n",
       "          [ 1.0014462 ],\n",
       "          [ 1.0014462 ],\n",
       "          ...,\n",
       "          [-0.05715458],\n",
       "          [-0.05715458],\n",
       "          [-0.05715458]]],\n",
       "\n",
       "\n",
       "        [[[ 1.5503504 ],\n",
       "          [ 1.3151058 ],\n",
       "          [ 1.1974835 ],\n",
       "          ...,\n",
       "          [ 0.29571238],\n",
       "          [ 0.2172975 ],\n",
       "          [ 0.2172975 ]],\n",
       "\n",
       "         [[ 1.3151058 ],\n",
       "          [ 1.3151058 ],\n",
       "          [ 1.1190686 ],\n",
       "          ...,\n",
       "          [ 0.29571238],\n",
       "          [ 0.2172975 ],\n",
       "          [ 0.2172975 ]],\n",
       "\n",
       "         [[ 1.4719355 ],\n",
       "          [ 1.4719355 ],\n",
       "          [ 1.3935207 ],\n",
       "          ...,\n",
       "          [ 0.29571238],\n",
       "          [ 0.25650492],\n",
       "          [ 0.25650492]],\n",
       "\n",
       "         ...,\n",
       "\n",
       "         [[ 1.0798612 ],\n",
       "          [ 1.0798612 ],\n",
       "          [ 1.0406537 ],\n",
       "          ...,\n",
       "          [-0.01794714],\n",
       "          [-0.05715458],\n",
       "          [-0.05715458]],\n",
       "\n",
       "         [[ 1.0798612 ],\n",
       "          [ 1.0798612 ],\n",
       "          [ 1.0406537 ],\n",
       "          ...,\n",
       "          [-0.01794714],\n",
       "          [-0.05715458],\n",
       "          [-0.05715458]],\n",
       "\n",
       "         [[ 1.0798612 ],\n",
       "          [ 1.0798612 ],\n",
       "          [ 1.0406537 ],\n",
       "          ...,\n",
       "          [-0.01794714],\n",
       "          [-0.05715458],\n",
       "          [-0.05715458]]],\n",
       "\n",
       "\n",
       "        ...,\n",
       "\n",
       "\n",
       "        [[[ 1.5503504 ],\n",
       "          [ 1.511143  ],\n",
       "          [ 1.1974835 ],\n",
       "          ...,\n",
       "          [ 0.2172975 ],\n",
       "          [ 0.2172975 ],\n",
       "          [ 0.2172975 ]],\n",
       "\n",
       "         [[ 1.3543133 ],\n",
       "          [ 1.3543133 ],\n",
       "          [ 1.3935207 ],\n",
       "          ...,\n",
       "          [ 0.2172975 ],\n",
       "          [ 0.2172975 ],\n",
       "          [ 0.2172975 ]],\n",
       "\n",
       "         [[ 1.5503504 ],\n",
       "          [ 1.5503504 ],\n",
       "          [ 1.4327282 ],\n",
       "          ...,\n",
       "          [ 0.29571238],\n",
       "          [ 0.29571238],\n",
       "          [ 0.25650492]],\n",
       "\n",
       "         ...,\n",
       "\n",
       "         [[ 1.0406537 ],\n",
       "          [ 1.0406537 ],\n",
       "          [ 1.0406537 ],\n",
       "          ...,\n",
       "          [-0.01794714],\n",
       "          [-0.01794714],\n",
       "          [-0.05715458]],\n",
       "\n",
       "         [[ 1.0406537 ],\n",
       "          [ 1.0406537 ],\n",
       "          [ 1.0406537 ],\n",
       "          ...,\n",
       "          [-0.01794714],\n",
       "          [-0.01794714],\n",
       "          [-0.05715458]],\n",
       "\n",
       "         [[ 1.0406537 ],\n",
       "          [ 1.0406537 ],\n",
       "          [ 1.0014462 ],\n",
       "          ...,\n",
       "          [-0.01794714],\n",
       "          [-0.01794714],\n",
       "          [-0.05715458]]],\n",
       "\n",
       "\n",
       "        [[[ 1.5895579 ],\n",
       "          [ 1.5503504 ],\n",
       "          [ 1.3543133 ],\n",
       "          ...,\n",
       "          [ 0.2172975 ],\n",
       "          [ 0.2172975 ],\n",
       "          [ 0.2172975 ]],\n",
       "\n",
       "         [[ 1.3935207 ],\n",
       "          [ 1.3935207 ],\n",
       "          [ 1.3935207 ],\n",
       "          ...,\n",
       "          [ 0.2172975 ],\n",
       "          [ 0.2172975 ],\n",
       "          [ 0.2172975 ]],\n",
       "\n",
       "         [[ 1.5503504 ],\n",
       "          [ 1.5503504 ],\n",
       "          [ 1.4719355 ],\n",
       "          ...,\n",
       "          [ 0.29571238],\n",
       "          [ 0.29571238],\n",
       "          [ 0.25650492]],\n",
       "\n",
       "         ...,\n",
       "\n",
       "         [[ 1.0406537 ],\n",
       "          [ 1.0406537 ],\n",
       "          [ 1.0406537 ],\n",
       "          ...,\n",
       "          [ 0.0212603 ],\n",
       "          [ 0.0212603 ],\n",
       "          [-0.01794714]],\n",
       "\n",
       "         [[ 1.0406537 ],\n",
       "          [ 1.0406537 ],\n",
       "          [ 1.0406537 ],\n",
       "          ...,\n",
       "          [-0.01794714],\n",
       "          [-0.01794714],\n",
       "          [-0.05715458]],\n",
       "\n",
       "         [[ 1.0406537 ],\n",
       "          [ 1.0406537 ],\n",
       "          [ 1.0014462 ],\n",
       "          ...,\n",
       "          [-0.01794714],\n",
       "          [-0.01794714],\n",
       "          [-0.05715458]]],\n",
       "\n",
       "\n",
       "        [[[ 1.5503504 ],\n",
       "          [ 1.511143  ],\n",
       "          [ 1.4719355 ],\n",
       "          ...,\n",
       "          [ 0.25650492],\n",
       "          [ 0.2172975 ],\n",
       "          [ 0.2172975 ]],\n",
       "\n",
       "         [[ 1.3935207 ],\n",
       "          [ 1.3935207 ],\n",
       "          [ 1.3935207 ],\n",
       "          ...,\n",
       "          [ 0.25650492],\n",
       "          [ 0.2172975 ],\n",
       "          [ 0.2172975 ]],\n",
       "\n",
       "         [[ 1.5895579 ],\n",
       "          [ 1.5895579 ],\n",
       "          [ 1.4719355 ],\n",
       "          ...,\n",
       "          [ 0.29571238],\n",
       "          [ 0.29571238],\n",
       "          [ 0.29571238]],\n",
       "\n",
       "         ...,\n",
       "\n",
       "         [[ 1.0798612 ],\n",
       "          [ 1.0798612 ],\n",
       "          [ 1.0406537 ],\n",
       "          ...,\n",
       "          [ 0.06046773],\n",
       "          [ 0.06046773],\n",
       "          [-0.01794714]],\n",
       "\n",
       "         [[ 1.0798612 ],\n",
       "          [ 1.0798612 ],\n",
       "          [ 1.0406537 ],\n",
       "          ...,\n",
       "          [ 0.06046773],\n",
       "          [ 0.0212603 ],\n",
       "          [-0.01794714]],\n",
       "\n",
       "         [[ 1.0798612 ],\n",
       "          [ 1.0798612 ],\n",
       "          [ 1.0406537 ],\n",
       "          ...,\n",
       "          [-0.01794714],\n",
       "          [-0.01794714],\n",
       "          [-0.05715458]]]],\n",
       "\n",
       "\n",
       "\n",
       "       [[[[ 1.3644644 ],\n",
       "          [ 1.3644644 ],\n",
       "          [ 1.3644644 ],\n",
       "          ...,\n",
       "          [ 0.15189576],\n",
       "          [ 0.11278065],\n",
       "          [ 0.11278065]],\n",
       "\n",
       "         [[ 1.3644644 ],\n",
       "          [ 1.3644644 ],\n",
       "          [ 1.3644644 ],\n",
       "          ...,\n",
       "          [ 0.15189576],\n",
       "          [ 0.11278065],\n",
       "          [ 0.11278065]],\n",
       "\n",
       "         [[ 1.2862341 ],\n",
       "          [ 1.2862341 ],\n",
       "          [ 1.2862341 ],\n",
       "          ...,\n",
       "          [ 0.15189576],\n",
       "          [ 0.07366553],\n",
       "          [ 0.07366553]],\n",
       "\n",
       "         ...,\n",
       "\n",
       "         [[ 0.895083  ],\n",
       "          [ 0.895083  ],\n",
       "          [ 0.895083  ],\n",
       "          ...,\n",
       "          [-0.23925541],\n",
       "          [-0.27837053],\n",
       "          [-0.27837053]],\n",
       "\n",
       "         [[ 0.895083  ],\n",
       "          [ 0.895083  ],\n",
       "          [ 0.895083  ],\n",
       "          ...,\n",
       "          [-0.35660076],\n",
       "          [-0.23925541],\n",
       "          [-0.31748563]],\n",
       "\n",
       "         [[ 0.895083  ],\n",
       "          [ 0.895083  ],\n",
       "          [ 0.895083  ],\n",
       "          ...,\n",
       "          [-0.31748563],\n",
       "          [-0.23925541],\n",
       "          [-0.35660076]]],\n",
       "\n",
       "\n",
       "        [[[ 1.4818097 ],\n",
       "          [ 1.4818097 ],\n",
       "          [ 1.4818097 ],\n",
       "          ...,\n",
       "          [ 0.15189576],\n",
       "          [ 0.07366553],\n",
       "          [ 0.15189576]],\n",
       "\n",
       "         [[ 1.4818097 ],\n",
       "          [ 1.4818097 ],\n",
       "          [ 1.4818097 ],\n",
       "          ...,\n",
       "          [ 0.15189576],\n",
       "          [ 0.07366553],\n",
       "          [ 0.15189576]],\n",
       "\n",
       "         [[ 1.2862341 ],\n",
       "          [ 1.2862341 ],\n",
       "          [ 1.2862341 ],\n",
       "          ...,\n",
       "          [ 0.11278065],\n",
       "          [ 0.11278065],\n",
       "          [ 0.11278065]],\n",
       "\n",
       "         ...,\n",
       "\n",
       "         [[ 0.895083  ],\n",
       "          [ 0.895083  ],\n",
       "          [ 0.895083  ],\n",
       "          ...,\n",
       "          [-0.27837053],\n",
       "          [-0.23925541],\n",
       "          [-0.27837053]],\n",
       "\n",
       "         [[ 0.895083  ],\n",
       "          [ 0.895083  ],\n",
       "          [ 0.895083  ],\n",
       "          ...,\n",
       "          [-0.434831  ],\n",
       "          [-0.27837053],\n",
       "          [-0.39571586]],\n",
       "\n",
       "         [[ 0.895083  ],\n",
       "          [ 0.895083  ],\n",
       "          [ 0.895083  ],\n",
       "          ...,\n",
       "          [-0.47394612],\n",
       "          [-0.39571586],\n",
       "          [-0.39571586]]],\n",
       "\n",
       "\n",
       "        [[[ 1.3644644 ],\n",
       "          [ 1.3644644 ],\n",
       "          [ 1.3644644 ],\n",
       "          ...,\n",
       "          [ 0.15189576],\n",
       "          [ 0.11278065],\n",
       "          [ 0.19101088]],\n",
       "\n",
       "         [[ 1.3644644 ],\n",
       "          [ 1.3644644 ],\n",
       "          [ 1.3644644 ],\n",
       "          ...,\n",
       "          [ 0.15189576],\n",
       "          [ 0.11278065],\n",
       "          [ 0.19101088]],\n",
       "\n",
       "         [[ 1.2471191 ],\n",
       "          [ 1.2471191 ],\n",
       "          [ 1.2471191 ],\n",
       "          ...,\n",
       "          [ 0.11278065],\n",
       "          [ 0.15189576],\n",
       "          [ 0.15189576]],\n",
       "\n",
       "         ...,\n",
       "\n",
       "         [[ 0.895083  ],\n",
       "          [ 0.895083  ],\n",
       "          [ 0.895083  ],\n",
       "          ...,\n",
       "          [-0.27837053],\n",
       "          [-0.23925541],\n",
       "          [-0.27837053]],\n",
       "\n",
       "         [[ 0.895083  ],\n",
       "          [ 0.895083  ],\n",
       "          [ 0.895083  ],\n",
       "          ...,\n",
       "          [-0.434831  ],\n",
       "          [-0.27837053],\n",
       "          [-0.39571586]],\n",
       "\n",
       "         [[ 0.895083  ],\n",
       "          [ 0.895083  ],\n",
       "          [ 0.895083  ],\n",
       "          ...,\n",
       "          [-0.47394612],\n",
       "          [-0.39571586],\n",
       "          [-0.39571586]]],\n",
       "\n",
       "\n",
       "        ...,\n",
       "\n",
       "\n",
       "        [[[ 1.4035795 ],\n",
       "          [ 1.4035795 ],\n",
       "          [ 1.4035795 ],\n",
       "          ...,\n",
       "          [ 0.03455041],\n",
       "          [ 0.03455041],\n",
       "          [ 0.03455041]],\n",
       "\n",
       "         [[ 1.4035795 ],\n",
       "          [ 1.4035795 ],\n",
       "          [ 1.4035795 ],\n",
       "          ...,\n",
       "          [ 0.03455041],\n",
       "          [ 0.03455041],\n",
       "          [ 0.03455041]],\n",
       "\n",
       "         [[ 1.2862341 ],\n",
       "          [ 1.2862341 ],\n",
       "          [ 1.2862341 ],\n",
       "          ...,\n",
       "          [ 0.03455041],\n",
       "          [ 0.03455041],\n",
       "          [ 0.03455041]],\n",
       "\n",
       "         ...,\n",
       "\n",
       "         [[ 0.8559679 ],\n",
       "          [ 0.8559679 ],\n",
       "          [ 0.8559679 ],\n",
       "          ...,\n",
       "          [-0.20014028],\n",
       "          [-0.16102517],\n",
       "          [-0.23925541]],\n",
       "\n",
       "         [[ 0.8559679 ],\n",
       "          [ 0.8559679 ],\n",
       "          [ 0.8559679 ],\n",
       "          ...,\n",
       "          [-0.39571586],\n",
       "          [-0.27837053],\n",
       "          [-0.20014028]],\n",
       "\n",
       "         [[ 0.8559679 ],\n",
       "          [ 0.8559679 ],\n",
       "          [ 0.8559679 ],\n",
       "          ...,\n",
       "          [-0.434831  ],\n",
       "          [-0.31748563],\n",
       "          [-0.20014028]]],\n",
       "\n",
       "\n",
       "        [[[ 1.3644644 ],\n",
       "          [ 1.3644644 ],\n",
       "          [ 1.4035795 ],\n",
       "          ...,\n",
       "          [ 0.07366553],\n",
       "          [ 0.03455041],\n",
       "          [ 0.03455041]],\n",
       "\n",
       "         [[ 1.3644644 ],\n",
       "          [ 1.3644644 ],\n",
       "          [ 1.4035795 ],\n",
       "          ...,\n",
       "          [ 0.07366553],\n",
       "          [ 0.03455041],\n",
       "          [ 0.03455041]],\n",
       "\n",
       "         [[ 1.2862341 ],\n",
       "          [ 1.2862341 ],\n",
       "          [ 1.2862341 ],\n",
       "          ...,\n",
       "          [ 0.15189576],\n",
       "          [ 0.15189576],\n",
       "          [ 0.07366553]],\n",
       "\n",
       "         ...,\n",
       "\n",
       "         [[ 0.895083  ],\n",
       "          [ 0.895083  ],\n",
       "          [ 0.895083  ],\n",
       "          ...,\n",
       "          [-0.20014028],\n",
       "          [-0.16102517],\n",
       "          [-0.23925541]],\n",
       "\n",
       "         [[ 0.895083  ],\n",
       "          [ 0.895083  ],\n",
       "          [ 0.895083  ],\n",
       "          ...,\n",
       "          [-0.35660076],\n",
       "          [-0.27837053],\n",
       "          [-0.20014028]],\n",
       "\n",
       "         [[ 0.895083  ],\n",
       "          [ 0.895083  ],\n",
       "          [ 0.895083  ],\n",
       "          ...,\n",
       "          [-0.434831  ],\n",
       "          [-0.31748563],\n",
       "          [-0.20014028]]],\n",
       "\n",
       "\n",
       "        [[[ 1.4035795 ],\n",
       "          [ 1.4035795 ],\n",
       "          [ 1.4035795 ],\n",
       "          ...,\n",
       "          [-0.0045647 ],\n",
       "          [-0.0045647 ],\n",
       "          [-0.0045647 ]],\n",
       "\n",
       "         [[ 1.4035795 ],\n",
       "          [ 1.4035795 ],\n",
       "          [ 1.4035795 ],\n",
       "          ...,\n",
       "          [-0.0045647 ],\n",
       "          [-0.0045647 ],\n",
       "          [-0.0045647 ]],\n",
       "\n",
       "         [[ 1.2862341 ],\n",
       "          [ 1.2862341 ],\n",
       "          [ 1.2862341 ],\n",
       "          ...,\n",
       "          [ 0.15189576],\n",
       "          [ 0.15189576],\n",
       "          [ 0.07366553]],\n",
       "\n",
       "         ...,\n",
       "\n",
       "         [[ 0.8559679 ],\n",
       "          [ 0.8559679 ],\n",
       "          [ 0.8559679 ],\n",
       "          ...,\n",
       "          [-0.23925541],\n",
       "          [-0.16102517],\n",
       "          [-0.16102517]],\n",
       "\n",
       "         [[ 0.8559679 ],\n",
       "          [ 0.8559679 ],\n",
       "          [ 0.8559679 ],\n",
       "          ...,\n",
       "          [-0.39571586],\n",
       "          [-0.27837053],\n",
       "          [-0.16102517]],\n",
       "\n",
       "         [[ 0.8559679 ],\n",
       "          [ 0.8559679 ],\n",
       "          [ 0.8559679 ],\n",
       "          ...,\n",
       "          [-0.47394612],\n",
       "          [-0.31748563],\n",
       "          [-0.20014028]]]]], dtype=float32)"
      ]
     },
     "execution_count": 26,
     "metadata": {},
     "output_type": "execute_result"
    }
   ],
   "source": [
    "val = sample.next(); val[0]"
   ]
  },
  {
   "cell_type": "code",
   "execution_count": 27,
   "id": "a7c2c1c5",
   "metadata": {},
   "outputs": [
    {
     "name": "stderr",
     "output_type": "stream",
     "text": [
      "Lossy conversion from float32 to uint8. Range [-4.369973182678223, 2.1384620666503906]. Convert image to uint8 prior to saving to suppress this warning.\n",
      "Lossy conversion from float32 to uint8. Range [-4.566009998321533, 2.216876983642578]. Convert image to uint8 prior to saving to suppress this warning.\n",
      "Lossy conversion from float32 to uint8. Range [-4.6836323738098145, 2.2952919006347656]. Convert image to uint8 prior to saving to suppress this warning.\n",
      "Lossy conversion from float32 to uint8. Range [-4.644424915313721, 2.1776695251464844]. Convert image to uint8 prior to saving to suppress this warning.\n",
      "Lossy conversion from float32 to uint8. Range [-4.644424915313721, 2.1776695251464844]. Convert image to uint8 prior to saving to suppress this warning.\n",
      "Lossy conversion from float32 to uint8. Range [-4.762047290802002, 2.216876983642578]. Convert image to uint8 prior to saving to suppress this warning.\n",
      "Lossy conversion from float32 to uint8. Range [-4.722839832305908, 2.216876983642578]. Convert image to uint8 prior to saving to suppress this warning.\n",
      "Lossy conversion from float32 to uint8. Range [-4.487595081329346, 2.216876983642578]. Convert image to uint8 prior to saving to suppress this warning.\n",
      "Lossy conversion from float32 to uint8. Range [-4.605217456817627, 2.216876983642578]. Convert image to uint8 prior to saving to suppress this warning.\n",
      "Lossy conversion from float32 to uint8. Range [-4.6836323738098145, 2.099254608154297]. Convert image to uint8 prior to saving to suppress this warning.\n",
      "Lossy conversion from float32 to uint8. Range [-4.6836323738098145, 2.1776695251464844]. Convert image to uint8 prior to saving to suppress this warning.\n",
      "Lossy conversion from float32 to uint8. Range [-4.801254749298096, 2.216876983642578]. Convert image to uint8 prior to saving to suppress this warning.\n",
      "Lossy conversion from float32 to uint8. Range [-4.566009998321533, 2.099254608154297]. Convert image to uint8 prior to saving to suppress this warning.\n",
      "Lossy conversion from float32 to uint8. Range [-4.6836323738098145, 2.1384620666503906]. Convert image to uint8 prior to saving to suppress this warning.\n",
      "Lossy conversion from float32 to uint8. Range [-4.644424915313721, 2.099254608154297]. Convert image to uint8 prior to saving to suppress this warning.\n",
      "Lossy conversion from float32 to uint8. Range [-4.487595081329346, 2.1384620666503906]. Convert image to uint8 prior to saving to suppress this warning.\n",
      "Lossy conversion from float32 to uint8. Range [-4.448387622833252, 2.216876983642578]. Convert image to uint8 prior to saving to suppress this warning.\n",
      "Lossy conversion from float32 to uint8. Range [-4.448387622833252, 2.4129140377044678]. Convert image to uint8 prior to saving to suppress this warning.\n",
      "Lossy conversion from float32 to uint8. Range [-4.369973182678223, 2.3344991207122803]. Convert image to uint8 prior to saving to suppress this warning.\n",
      "Lossy conversion from float32 to uint8. Range [-4.330765724182129, 2.4129140377044678]. Convert image to uint8 prior to saving to suppress this warning.\n",
      "Lossy conversion from float32 to uint8. Range [-4.409180164337158, 2.530536413192749]. Convert image to uint8 prior to saving to suppress this warning.\n",
      "Lossy conversion from float32 to uint8. Range [-4.330765724182129, 2.4521214962005615]. Convert image to uint8 prior to saving to suppress this warning.\n",
      "Lossy conversion from float32 to uint8. Range [-4.448387622833252, 2.530536413192749]. Convert image to uint8 prior to saving to suppress this warning.\n",
      "Lossy conversion from float32 to uint8. Range [-4.369973182678223, 2.4913289546966553]. Convert image to uint8 prior to saving to suppress this warning.\n",
      "Lossy conversion from float32 to uint8. Range [-4.252350807189941, 2.4521214962005615]. Convert image to uint8 prior to saving to suppress this warning.\n",
      "Lossy conversion from float32 to uint8. Range [-4.369973182678223, 2.373706579208374]. Convert image to uint8 prior to saving to suppress this warning.\n",
      "Lossy conversion from float32 to uint8. Range [-4.369973182678223, 2.373706579208374]. Convert image to uint8 prior to saving to suppress this warning.\n",
      "Lossy conversion from float32 to uint8. Range [-4.448387622833252, 2.4129140377044678]. Convert image to uint8 prior to saving to suppress this warning.\n",
      "Lossy conversion from float32 to uint8. Range [-4.409180164337158, 2.373706579208374]. Convert image to uint8 prior to saving to suppress this warning.\n",
      "Lossy conversion from float32 to uint8. Range [-4.409180164337158, 2.373706579208374]. Convert image to uint8 prior to saving to suppress this warning.\n",
      "Lossy conversion from float32 to uint8. Range [-4.487595081329346, 2.373706579208374]. Convert image to uint8 prior to saving to suppress this warning.\n",
      "Lossy conversion from float32 to uint8. Range [-4.5268025398254395, 2.4129140377044678]. Convert image to uint8 prior to saving to suppress this warning.\n",
      "Lossy conversion from float32 to uint8. Range [-4.5268025398254395, 2.4129140377044678]. Convert image to uint8 prior to saving to suppress this warning.\n",
      "Lossy conversion from float32 to uint8. Range [-4.409180164337158, 2.5697438716888428]. Convert image to uint8 prior to saving to suppress this warning.\n",
      "Lossy conversion from float32 to uint8. Range [-4.291558265686035, 2.530536413192749]. Convert image to uint8 prior to saving to suppress this warning.\n",
      "Lossy conversion from float32 to uint8. Range [-4.566009998321533, 2.4521214962005615]. Convert image to uint8 prior to saving to suppress this warning.\n",
      "Lossy conversion from float32 to uint8. Range [-4.291558265686035, 2.256084442138672]. Convert image to uint8 prior to saving to suppress this warning.\n",
      "Lossy conversion from float32 to uint8. Range [-4.487595081329346, 2.256084442138672]. Convert image to uint8 prior to saving to suppress this warning.\n",
      "Lossy conversion from float32 to uint8. Range [-4.330765724182129, 2.256084442138672]. Convert image to uint8 prior to saving to suppress this warning.\n",
      "Lossy conversion from float32 to uint8. Range [-4.409180164337158, 2.3344991207122803]. Convert image to uint8 prior to saving to suppress this warning.\n",
      "Lossy conversion from float32 to uint8. Range [-4.409180164337158, 2.4129140377044678]. Convert image to uint8 prior to saving to suppress this warning.\n",
      "Lossy conversion from float32 to uint8. Range [-4.369973182678223, 2.4521214962005615]. Convert image to uint8 prior to saving to suppress this warning.\n",
      "Lossy conversion from float32 to uint8. Range [-4.369973182678223, 2.4521214962005615]. Convert image to uint8 prior to saving to suppress this warning.\n",
      "Lossy conversion from float32 to uint8. Range [-4.369973182678223, 2.4521214962005615]. Convert image to uint8 prior to saving to suppress this warning.\n",
      "Lossy conversion from float32 to uint8. Range [-4.5268025398254395, 2.4521214962005615]. Convert image to uint8 prior to saving to suppress this warning.\n",
      "Lossy conversion from float32 to uint8. Range [-4.448387622833252, 2.530536413192749]. Convert image to uint8 prior to saving to suppress this warning.\n",
      "Lossy conversion from float32 to uint8. Range [-4.409180164337158, 2.530536413192749]. Convert image to uint8 prior to saving to suppress this warning.\n",
      "Lossy conversion from float32 to uint8. Range [-4.369973182678223, 2.4913289546966553]. Convert image to uint8 prior to saving to suppress this warning.\n",
      "Lossy conversion from float32 to uint8. Range [-4.173935890197754, 2.4913289546966553]. Convert image to uint8 prior to saving to suppress this warning.\n",
      "Lossy conversion from float32 to uint8. Range [-4.291558265686035, 2.530536413192749]. Convert image to uint8 prior to saving to suppress this warning.\n",
      "Lossy conversion from float32 to uint8. Range [-4.369973182678223, 2.4521214962005615]. Convert image to uint8 prior to saving to suppress this warning.\n",
      "Lossy conversion from float32 to uint8. Range [-4.409180164337158, 2.4129140377044678]. Convert image to uint8 prior to saving to suppress this warning.\n",
      "Lossy conversion from float32 to uint8. Range [-4.291558265686035, 2.4521214962005615]. Convert image to uint8 prior to saving to suppress this warning.\n",
      "Lossy conversion from float32 to uint8. Range [-4.252350807189941, 2.4913289546966553]. Convert image to uint8 prior to saving to suppress this warning.\n",
      "Lossy conversion from float32 to uint8. Range [-4.213143348693848, 2.4129140377044678]. Convert image to uint8 prior to saving to suppress this warning.\n",
      "Lossy conversion from float32 to uint8. Range [-4.13472843170166, 2.4129140377044678]. Convert image to uint8 prior to saving to suppress this warning.\n",
      "Lossy conversion from float32 to uint8. Range [-4.095520973205566, 2.4129140377044678]. Convert image to uint8 prior to saving to suppress this warning.\n",
      "Lossy conversion from float32 to uint8. Range [-4.213143348693848, 2.4521214962005615]. Convert image to uint8 prior to saving to suppress this warning.\n",
      "Lossy conversion from float32 to uint8. Range [-4.252350807189941, 2.4129140377044678]. Convert image to uint8 prior to saving to suppress this warning.\n",
      "Lossy conversion from float32 to uint8. Range [-4.566009998321533, 2.373706579208374]. Convert image to uint8 prior to saving to suppress this warning.\n",
      "Lossy conversion from float32 to uint8. Range [-4.6836323738098145, 2.373706579208374]. Convert image to uint8 prior to saving to suppress this warning.\n",
      "Lossy conversion from float32 to uint8. Range [-4.6836323738098145, 2.4521214962005615]. Convert image to uint8 prior to saving to suppress this warning.\n",
      "Lossy conversion from float32 to uint8. Range [-4.605217456817627, 2.4129140377044678]. Convert image to uint8 prior to saving to suppress this warning.\n",
      "Lossy conversion from float32 to uint8. Range [-4.566009998321533, 2.256084442138672]. Convert image to uint8 prior to saving to suppress this warning.\n",
      "Lossy conversion from float32 to uint8. Range [-4.173935890197754, 2.2952919006347656]. Convert image to uint8 prior to saving to suppress this warning.\n",
      "Lossy conversion from float32 to uint8. Range [-4.056313514709473, 2.256084442138672]. Convert image to uint8 prior to saving to suppress this warning.\n",
      "Lossy conversion from float32 to uint8. Range [-4.056313514709473, 2.1776695251464844]. Convert image to uint8 prior to saving to suppress this warning.\n",
      "Lossy conversion from float32 to uint8. Range [-4.13472843170166, 2.1776695251464844]. Convert image to uint8 prior to saving to suppress this warning.\n",
      "Lossy conversion from float32 to uint8. Range [-4.173935890197754, 2.3344991207122803]. Convert image to uint8 prior to saving to suppress this warning.\n",
      "Lossy conversion from float32 to uint8. Range [-4.252350807189941, 2.216876983642578]. Convert image to uint8 prior to saving to suppress this warning.\n",
      "Lossy conversion from float32 to uint8. Range [-4.13472843170166, 2.256084442138672]. Convert image to uint8 prior to saving to suppress this warning.\n",
      "Lossy conversion from float32 to uint8. Range [-4.252350807189941, 2.216876983642578]. Convert image to uint8 prior to saving to suppress this warning.\n",
      "Lossy conversion from float32 to uint8. Range [-4.017106056213379, 2.256084442138672]. Convert image to uint8 prior to saving to suppress this warning.\n",
      "Lossy conversion from float32 to uint8. Range [-4.213143348693848, 2.256084442138672]. Convert image to uint8 prior to saving to suppress this warning.\n",
      "Lossy conversion from float32 to uint8. Range [-4.252350807189941, 2.2952919006347656]. Convert image to uint8 prior to saving to suppress this warning.\n"
     ]
    }
   ],
   "source": [
    "imageio.mimsave('./animation.gif', val[0][0], fps=10)"
   ]
  },
  {
   "cell_type": "code",
   "execution_count": 28,
   "id": "5235b6b8",
   "metadata": {},
   "outputs": [
    {
     "data": {
      "text/plain": [
       "<matplotlib.image.AxesImage at 0x1bf265b7610>"
      ]
     },
     "execution_count": 28,
     "metadata": {},
     "output_type": "execute_result"
    },
    {
     "data": {
      "image/png": "[encoded data removed]",
      "text/plain": [
       "<Figure size 640x480 with 1 Axes>"
      ]
     },
     "metadata": {},
     "output_type": "display_data"
    }
   ],
   "source": [
    "# 0:videos, 0: 1st video out of the batch,  0: return the first frame in the video \n",
    "plt.imshow(val[0][0][35])"
   ]
  },
  {
   "cell_type": "code",
   "execution_count": 29,
   "id": "f4778b19",
   "metadata": {},
   "outputs": [
    {
     "data": {
      "text/plain": [
       "<tf.Tensor: shape=(), dtype=string, numpy=b'place green in d four now'>"
      ]
     },
     "execution_count": 29,
     "metadata": {},
     "output_type": "execute_result"
    }
   ],
   "source": [
    "tf.strings.reduce_join([num_to_char(word) for word in val[1][0]])"
   ]
  },
  {
   "cell_type": "markdown",
   "id": "58a84670",
   "metadata": {},
   "source": [
    "3. Deep Neural Network"
   ]
  },
  {
   "cell_type": "code",
   "execution_count": 30,
   "id": "7ab6e303",
   "metadata": {},
   "outputs": [],
   "source": [
    "from tensorflow.keras.models import Sequential\n",
    "from tensorflow.keras.layers import Conv3D , LSTM, Dense,Dropout ,Bidirectional,Activation,MaxPool3D,Reshape,SpatialDropout3D,TimeDistributed,Flatten\n",
    "from tensorflow.keras.optimizers import Adam\n",
    "from tensorflow.keras.callbacks import ModelCheckpoint,LearningRateScheduler"
   ]
  },
  {
   "cell_type": "code",
   "execution_count": 31,
   "id": "ffa00a74",
   "metadata": {},
   "outputs": [
    {
     "data": {
      "text/plain": [
       "(75, 46, 140, 1)"
      ]
     },
     "execution_count": 31,
     "metadata": {},
     "output_type": "execute_result"
    }
   ],
   "source": [
    "data.as_numpy_iterator().next()[0][0].shape"
   ]
  },
  {
   "cell_type": "code",
   "execution_count": 32,
   "id": "cb5c4f4e",
   "metadata": {},
   "outputs": [],
   "source": [
    "model = Sequential()\n",
    "\n",
    "model.add(Conv3D(128, 3, input_shape=(75, 46, 140, 1), padding='same'))\n",
    "model.add(Activation('relu'))\n",
    "model.add(MaxPool3D((1, 2, 2)))\n",
    "\n",
    "model.add(Conv3D(256, 3, padding='same'))\n",
    "model.add(Activation('relu'))\n",
    "model.add(MaxPool3D((1, 2, 2)))\n",
    "\n",
    "model.add(Conv3D(75, 3, padding='same'))\n",
    "model.add(Activation('relu'))\n",
    "model.add(MaxPool3D((1, 2, 2)))\n",
    "\n",
    "model.add(TimeDistributed(Flatten()))\n",
    "\n",
    "model.add(Bidirectional(LSTM(128, kernel_initializer='Orthogonal', return_sequences=True)))\n",
    "model.add(Dropout(0.5))\n",
    "\n",
    "model.add(Bidirectional(LSTM(128, kernel_initializer='Orthogonal', return_sequences=True)))\n",
    "model.add(Dropout(.5))\n",
    "\n",
    "model.add(Dense(41,kernel_initializer='he_normal',activation='softmax'))"
   ]
  },
  {
   "cell_type": "code",
   "execution_count": 33,
   "id": "83e60c10",
   "metadata": {},
   "outputs": [
    {
     "name": "stdout",
     "output_type": "stream",
     "text": [
      "Model: \"sequential\"\n",
      "_________________________________________________________________\n",
      " Layer (type)                Output Shape              Param #   \n",
      "=================================================================\n",
      " conv3d (Conv3D)             (None, 75, 46, 140, 128)  3584      \n",
      "                                                                 \n",
      " activation (Activation)     (None, 75, 46, 140, 128)  0         \n",
      "                                                                 \n",
      " max_pooling3d (MaxPooling3D  (None, 75, 23, 70, 128)  0         \n",
      " )                                                               \n",
      "                                                                 \n",
      " conv3d_1 (Conv3D)           (None, 75, 23, 70, 256)   884992    \n",
      "                                                                 \n",
      " activation_1 (Activation)   (None, 75, 23, 70, 256)   0         \n",
      "                                                                 \n",
      " max_pooling3d_1 (MaxPooling  (None, 75, 11, 35, 256)  0         \n",
      " 3D)                                                             \n",
      "                                                                 \n",
      " conv3d_2 (Conv3D)           (None, 75, 11, 35, 75)    518475    \n",
      "                                                                 \n",
      " activation_2 (Activation)   (None, 75, 11, 35, 75)    0         \n",
      "                                                                 \n",
      " max_pooling3d_2 (MaxPooling  (None, 75, 5, 17, 75)    0         \n",
      " 3D)                                                             \n",
      "                                                                 \n",
      " time_distributed (TimeDistr  (None, 75, 6375)         0         \n",
      " ibuted)                                                         \n",
      "                                                                 \n",
      " bidirectional (Bidirectiona  (None, 75, 256)          6660096   \n",
      " l)                                                              \n",
      "                                                                 \n",
      " dropout (Dropout)           (None, 75, 256)           0         \n",
      "                                                                 \n",
      " bidirectional_1 (Bidirectio  (None, 75, 256)          394240    \n",
      " nal)                                                            \n",
      "                                                                 \n",
      " dropout_1 (Dropout)         (None, 75, 256)           0         \n",
      "                                                                 \n",
      " dense (Dense)               (None, 75, 41)            10537     \n",
      "                                                                 \n",
      "=================================================================\n",
      "Total params: 8,471,924\n",
      "Trainable params: 8,471,924\n",
      "Non-trainable params: 0\n",
      "_________________________________________________________________\n"
     ]
    }
   ],
   "source": [
    "model.summary()"
   ]
  },
  {
   "cell_type": "code",
   "execution_count": 34,
   "id": "03bbbe6d",
   "metadata": {},
   "outputs": [
    {
     "name": "stdout",
     "output_type": "stream",
     "text": [
      "1/1 [==============================] - 3s 3s/step\n"
     ]
    }
   ],
   "source": [
    "yhat = model.predict(val[0])"
   ]
  },
  {
   "cell_type": "code",
   "execution_count": 35,
   "id": "bfa616e2",
   "metadata": {},
   "outputs": [
    {
     "data": {
      "text/plain": [
       "<tf.Tensor: shape=(), dtype=string, numpy=b'4444444444444444444444444444444444444444444444444444444444444444???????rrrr'>"
      ]
     },
     "execution_count": 35,
     "metadata": {},
     "output_type": "execute_result"
    }
   ],
   "source": [
    "tf.strings.reduce_join([num_to_char(tf.argmax(x)) for x in yhat[0]])"
   ]
  },
  {
   "cell_type": "code",
   "execution_count": 36,
   "id": "8666418c",
   "metadata": {},
   "outputs": [
    {
     "data": {
      "text/plain": [
       "(None, 75, 46, 140, 1)"
      ]
     },
     "execution_count": 36,
     "metadata": {},
     "output_type": "execute_result"
    }
   ],
   "source": [
    "model.input_shape"
   ]
  },
  {
   "cell_type": "code",
   "execution_count": 37,
   "id": "b82454c7",
   "metadata": {},
   "outputs": [
    {
     "data": {
      "text/plain": [
       "TensorShape([None, 75, 41])"
      ]
     },
     "execution_count": 37,
     "metadata": {},
     "output_type": "execute_result"
    }
   ],
   "source": [
    "model.output.shape"
   ]
  },
  {
   "cell_type": "markdown",
   "id": "0d42729e",
   "metadata": {},
   "source": [
    "Setup Training"
   ]
  },
  {
   "cell_type": "code",
   "execution_count": 38,
   "id": "355358ca",
   "metadata": {},
   "outputs": [],
   "source": [
    "import tensorflow as tf\n",
    "\n",
    "def CTCLoss(y_true, y_pred):\n",
    "    # Get batch size\n",
    "    batch_len = tf.shape(y_true)[0]\n",
    "\n",
    "    # Get input and label lengths\n",
    "    input_length = tf.fill([batch_len, 1], tf.shape(y_pred)[1])   # Time steps\n",
    "    label_length = tf.fill([batch_len, 1], tf.shape(y_true)[1])   # Label length\n",
    "\n",
    "    # Convert to int64 as required by ctc_batch_cost\n",
    "    input_length = tf.cast(input_length, tf.int64)\n",
    "    label_length = tf.cast(label_length, tf.int64)\n",
    "\n",
    "    # Compute the CTC loss\n",
    "    loss = tf.keras.backend.ctc_batch_cost(y_true, y_pred, input_length, label_length)\n",
    "    return loss\n"
   ]
  },
  {
   "cell_type": "code",
   "execution_count": 39,
   "id": "2c4514f7",
   "metadata": {},
   "outputs": [],
   "source": [
    "class ProduceExample(tf.keras.callbacks.Callback): \n",
    "    def __init__(self, dataset) -> None: \n",
    "        self.dataset = dataset.as_numpy_iterator()\n",
    "    \n",
    "    def on_epoch_end(self, epoch, logs=None) -> None:\n",
    "        data = self.dataset.next()\n",
    "        yhat = self.model.predict(data[0])\n",
    "        decoded = tf.keras.backend.ctc_decode(yhat, [75,75], greedy=False)[0][0].numpy()\n",
    "        for x in range(len(yhat)):           \n",
    "            print('Original:', tf.strings.reduce_join(num_to_char(data[1][x])).numpy().decode('utf-8'))\n",
    "            print('Prediction:', tf.strings.reduce_join(num_to_char(decoded[x])).numpy().decode('utf-8'))\n",
    "            print('~'*100)"
   ]
  },
  {
   "cell_type": "code",
   "execution_count": 40,
   "id": "efcee59c",
   "metadata": {},
   "outputs": [],
   "source": [
    "model.compile(optimizer=Adam(learning_rate=0.0001),loss=CTCLoss)"
   ]
  },
  {
   "cell_type": "code",
   "execution_count": 41,
   "id": "8a5ae035",
   "metadata": {},
   "outputs": [],
   "source": [
    "checkpoint_callback = ModelCheckpoint(os.path.join('models','checkpoints'),monitor='loss',save_weights_only=True)"
   ]
  },
  {
   "cell_type": "code",
   "execution_count": 42,
   "id": "0c9dbbb0",
   "metadata": {},
   "outputs": [],
   "source": [
    "def scheduler(epoch, lr):\n",
    "    if epoch < 30:\n",
    "        return lr\n",
    "    else:\n",
    "        return lr * tf.math.exp(-0.1)"
   ]
  },
  {
   "cell_type": "code",
   "execution_count": 43,
   "id": "b8177677",
   "metadata": {},
   "outputs": [],
   "source": [
    "schedule_callback = LearningRateScheduler(scheduler)"
   ]
  },
  {
   "cell_type": "code",
   "execution_count": 44,
   "id": "8d429b4e",
   "metadata": {},
   "outputs": [],
   "source": [
    "example_callback = ProduceExample(data)"
   ]
  },
  {
   "cell_type": "code",
   "execution_count": null,
   "id": "1c31edaa",
   "metadata": {},
   "outputs": [
    {
     "name": "stdout",
     "output_type": "stream",
     "text": [
      "Epoch 1/100\n",
      "1/1 [==============================] - 1s 1s/steps - loss: 85.76\n",
      "Original: lay red with f two please\n",
      "Prediction: le e e e e o\n",
      "~~~~~~~~~~~~~~~~~~~~~~~~~~~~~~~~~~~~~~~~~~~~~~~~~~~~~~~~~~~~~~~~~~~~~~~~~~~~~~~~~~~~~~~~~~~~~~~~~~~~\n",
      "Original: lay blue by r zero please\n",
      "Prediction: le e e e o\n",
      "~~~~~~~~~~~~~~~~~~~~~~~~~~~~~~~~~~~~~~~~~~~~~~~~~~~~~~~~~~~~~~~~~~~~~~~~~~~~~~~~~~~~~~~~~~~~~~~~~~~~\n",
      "450/450 [==============================] - 647s 1s/step - loss: 85.7615 - val_loss: 71.0086 - lr: 1.0000e-04\n",
      "Epoch 2/100\n",
      "195/450 [============>.................] - ETA: 3:14 - loss: 72.4580"
     ]
    },
    {
     "ename": "KeyboardInterrupt",
     "evalue": "",
     "output_type": "error",
     "traceback": [
      "\u001b[1;31m---------------------------------------------------------------------------\u001b[0m",
      "\u001b[1;31mKeyboardInterrupt\u001b[0m                         Traceback (most recent call last)",
      "Cell \u001b[1;32mIn[45], line 1\u001b[0m\n\u001b[1;32m----> 1\u001b[0m \u001b[43mmodel\u001b[49m\u001b[38;5;241;43m.\u001b[39;49m\u001b[43mfit\u001b[49m\u001b[43m(\u001b[49m\u001b[43mtrain\u001b[49m\u001b[43m,\u001b[49m\u001b[43m \u001b[49m\u001b[43mvalidation_data\u001b[49m\u001b[38;5;241;43m=\u001b[39;49m\u001b[43mtest\u001b[49m\u001b[43m,\u001b[49m\u001b[43m \u001b[49m\u001b[43mepochs\u001b[49m\u001b[38;5;241;43m=\u001b[39;49m\u001b[38;5;241;43m100\u001b[39;49m\u001b[43m,\u001b[49m\u001b[43m \u001b[49m\u001b[43mcallbacks\u001b[49m\u001b[38;5;241;43m=\u001b[39;49m\u001b[43m[\u001b[49m\u001b[43mcheckpoint_callback\u001b[49m\u001b[43m,\u001b[49m\u001b[43m \u001b[49m\u001b[43mschedule_callback\u001b[49m\u001b[43m,\u001b[49m\u001b[43m \u001b[49m\u001b[43mexample_callback\u001b[49m\u001b[43m]\u001b[49m\u001b[43m)\u001b[49m\n",
      "File \u001b[1;32mc:\\conda\\envs\\tf\\lib\\site-packages\\keras\\utils\\traceback_utils.py:65\u001b[0m, in \u001b[0;36mfilter_traceback.<locals>.error_handler\u001b[1;34m(*args, **kwargs)\u001b[0m\n\u001b[0;32m     63\u001b[0m filtered_tb \u001b[38;5;241m=\u001b[39m \u001b[38;5;28;01mNone\u001b[39;00m\n\u001b[0;32m     64\u001b[0m \u001b[38;5;28;01mtry\u001b[39;00m:\n\u001b[1;32m---> 65\u001b[0m     \u001b[38;5;28;01mreturn\u001b[39;00m fn(\u001b[38;5;241m*\u001b[39margs, \u001b[38;5;241m*\u001b[39m\u001b[38;5;241m*\u001b[39mkwargs)\n\u001b[0;32m     66\u001b[0m \u001b[38;5;28;01mexcept\u001b[39;00m \u001b[38;5;167;01mException\u001b[39;00m \u001b[38;5;28;01mas\u001b[39;00m e:\n\u001b[0;32m     67\u001b[0m     filtered_tb \u001b[38;5;241m=\u001b[39m _process_traceback_frames(e\u001b[38;5;241m.\u001b[39m__traceback__)\n",
      "File \u001b[1;32mc:\\conda\\envs\\tf\\lib\\site-packages\\keras\\engine\\training.py:1564\u001b[0m, in \u001b[0;36mModel.fit\u001b[1;34m(self, x, y, batch_size, epochs, verbose, callbacks, validation_split, validation_data, shuffle, class_weight, sample_weight, initial_epoch, steps_per_epoch, validation_steps, validation_batch_size, validation_freq, max_queue_size, workers, use_multiprocessing)\u001b[0m\n\u001b[0;32m   1556\u001b[0m \u001b[38;5;28;01mwith\u001b[39;00m tf\u001b[38;5;241m.\u001b[39mprofiler\u001b[38;5;241m.\u001b[39mexperimental\u001b[38;5;241m.\u001b[39mTrace(\n\u001b[0;32m   1557\u001b[0m     \u001b[38;5;124m\"\u001b[39m\u001b[38;5;124mtrain\u001b[39m\u001b[38;5;124m\"\u001b[39m,\n\u001b[0;32m   1558\u001b[0m     epoch_num\u001b[38;5;241m=\u001b[39mepoch,\n\u001b[1;32m   (...)\u001b[0m\n\u001b[0;32m   1561\u001b[0m     _r\u001b[38;5;241m=\u001b[39m\u001b[38;5;241m1\u001b[39m,\n\u001b[0;32m   1562\u001b[0m ):\n\u001b[0;32m   1563\u001b[0m     callbacks\u001b[38;5;241m.\u001b[39mon_train_batch_begin(step)\n\u001b[1;32m-> 1564\u001b[0m     tmp_logs \u001b[38;5;241m=\u001b[39m \u001b[38;5;28;43mself\u001b[39;49m\u001b[38;5;241;43m.\u001b[39;49m\u001b[43mtrain_function\u001b[49m\u001b[43m(\u001b[49m\u001b[43miterator\u001b[49m\u001b[43m)\u001b[49m\n\u001b[0;32m   1565\u001b[0m     \u001b[38;5;28;01mif\u001b[39;00m data_handler\u001b[38;5;241m.\u001b[39mshould_sync:\n\u001b[0;32m   1566\u001b[0m         context\u001b[38;5;241m.\u001b[39masync_wait()\n",
      "File \u001b[1;32mc:\\conda\\envs\\tf\\lib\\site-packages\\tensorflow\\python\\util\\traceback_utils.py:150\u001b[0m, in \u001b[0;36mfilter_traceback.<locals>.error_handler\u001b[1;34m(*args, **kwargs)\u001b[0m\n\u001b[0;32m    148\u001b[0m filtered_tb \u001b[38;5;241m=\u001b[39m \u001b[38;5;28;01mNone\u001b[39;00m\n\u001b[0;32m    149\u001b[0m \u001b[38;5;28;01mtry\u001b[39;00m:\n\u001b[1;32m--> 150\u001b[0m   \u001b[38;5;28;01mreturn\u001b[39;00m fn(\u001b[38;5;241m*\u001b[39margs, \u001b[38;5;241m*\u001b[39m\u001b[38;5;241m*\u001b[39mkwargs)\n\u001b[0;32m    151\u001b[0m \u001b[38;5;28;01mexcept\u001b[39;00m \u001b[38;5;167;01mException\u001b[39;00m \u001b[38;5;28;01mas\u001b[39;00m e:\n\u001b[0;32m    152\u001b[0m   filtered_tb \u001b[38;5;241m=\u001b[39m _process_traceback_frames(e\u001b[38;5;241m.\u001b[39m__traceback__)\n",
      "File \u001b[1;32mc:\\conda\\envs\\tf\\lib\\site-packages\\tensorflow\\python\\eager\\def_function.py:915\u001b[0m, in \u001b[0;36mFunction.__call__\u001b[1;34m(self, *args, **kwds)\u001b[0m\n\u001b[0;32m    912\u001b[0m compiler \u001b[38;5;241m=\u001b[39m \u001b[38;5;124m\"\u001b[39m\u001b[38;5;124mxla\u001b[39m\u001b[38;5;124m\"\u001b[39m \u001b[38;5;28;01mif\u001b[39;00m \u001b[38;5;28mself\u001b[39m\u001b[38;5;241m.\u001b[39m_jit_compile \u001b[38;5;28;01melse\u001b[39;00m \u001b[38;5;124m\"\u001b[39m\u001b[38;5;124mnonXla\u001b[39m\u001b[38;5;124m\"\u001b[39m\n\u001b[0;32m    914\u001b[0m \u001b[38;5;28;01mwith\u001b[39;00m OptionalXlaContext(\u001b[38;5;28mself\u001b[39m\u001b[38;5;241m.\u001b[39m_jit_compile):\n\u001b[1;32m--> 915\u001b[0m   result \u001b[38;5;241m=\u001b[39m \u001b[38;5;28mself\u001b[39m\u001b[38;5;241m.\u001b[39m_call(\u001b[38;5;241m*\u001b[39margs, \u001b[38;5;241m*\u001b[39m\u001b[38;5;241m*\u001b[39mkwds)\n\u001b[0;32m    917\u001b[0m new_tracing_count \u001b[38;5;241m=\u001b[39m \u001b[38;5;28mself\u001b[39m\u001b[38;5;241m.\u001b[39mexperimental_get_tracing_count()\n\u001b[0;32m    918\u001b[0m without_tracing \u001b[38;5;241m=\u001b[39m (tracing_count \u001b[38;5;241m==\u001b[39m new_tracing_count)\n",
      "File \u001b[1;32mc:\\conda\\envs\\tf\\lib\\site-packages\\tensorflow\\python\\eager\\def_function.py:947\u001b[0m, in \u001b[0;36mFunction._call\u001b[1;34m(self, *args, **kwds)\u001b[0m\n\u001b[0;32m    944\u001b[0m   \u001b[38;5;28mself\u001b[39m\u001b[38;5;241m.\u001b[39m_lock\u001b[38;5;241m.\u001b[39mrelease()\n\u001b[0;32m    945\u001b[0m   \u001b[38;5;66;03m# In this case we have created variables on the first call, so we run the\u001b[39;00m\n\u001b[0;32m    946\u001b[0m   \u001b[38;5;66;03m# defunned version which is guaranteed to never create variables.\u001b[39;00m\n\u001b[1;32m--> 947\u001b[0m   \u001b[38;5;28;01mreturn\u001b[39;00m \u001b[38;5;28mself\u001b[39m\u001b[38;5;241m.\u001b[39m_stateless_fn(\u001b[38;5;241m*\u001b[39margs, \u001b[38;5;241m*\u001b[39m\u001b[38;5;241m*\u001b[39mkwds)  \u001b[38;5;66;03m# pylint: disable=not-callable\u001b[39;00m\n\u001b[0;32m    948\u001b[0m \u001b[38;5;28;01melif\u001b[39;00m \u001b[38;5;28mself\u001b[39m\u001b[38;5;241m.\u001b[39m_stateful_fn \u001b[38;5;129;01mis\u001b[39;00m \u001b[38;5;129;01mnot\u001b[39;00m \u001b[38;5;28;01mNone\u001b[39;00m:\n\u001b[0;32m    949\u001b[0m   \u001b[38;5;66;03m# Release the lock early so that multiple threads can perform the call\u001b[39;00m\n\u001b[0;32m    950\u001b[0m   \u001b[38;5;66;03m# in parallel.\u001b[39;00m\n\u001b[0;32m    951\u001b[0m   \u001b[38;5;28mself\u001b[39m\u001b[38;5;241m.\u001b[39m_lock\u001b[38;5;241m.\u001b[39mrelease()\n",
      "File \u001b[1;32mc:\\conda\\envs\\tf\\lib\\site-packages\\tensorflow\\python\\eager\\function.py:2496\u001b[0m, in \u001b[0;36mFunction.__call__\u001b[1;34m(self, *args, **kwargs)\u001b[0m\n\u001b[0;32m   2493\u001b[0m \u001b[38;5;28;01mwith\u001b[39;00m \u001b[38;5;28mself\u001b[39m\u001b[38;5;241m.\u001b[39m_lock:\n\u001b[0;32m   2494\u001b[0m   (graph_function,\n\u001b[0;32m   2495\u001b[0m    filtered_flat_args) \u001b[38;5;241m=\u001b[39m \u001b[38;5;28mself\u001b[39m\u001b[38;5;241m.\u001b[39m_maybe_define_function(args, kwargs)\n\u001b[1;32m-> 2496\u001b[0m \u001b[38;5;28;01mreturn\u001b[39;00m \u001b[43mgraph_function\u001b[49m\u001b[38;5;241;43m.\u001b[39;49m\u001b[43m_call_flat\u001b[49m\u001b[43m(\u001b[49m\n\u001b[0;32m   2497\u001b[0m \u001b[43m    \u001b[49m\u001b[43mfiltered_flat_args\u001b[49m\u001b[43m,\u001b[49m\u001b[43m \u001b[49m\u001b[43mcaptured_inputs\u001b[49m\u001b[38;5;241;43m=\u001b[39;49m\u001b[43mgraph_function\u001b[49m\u001b[38;5;241;43m.\u001b[39;49m\u001b[43mcaptured_inputs\u001b[49m\u001b[43m)\u001b[49m\n",
      "File \u001b[1;32mc:\\conda\\envs\\tf\\lib\\site-packages\\tensorflow\\python\\eager\\function.py:1862\u001b[0m, in \u001b[0;36mConcreteFunction._call_flat\u001b[1;34m(self, args, captured_inputs, cancellation_manager)\u001b[0m\n\u001b[0;32m   1858\u001b[0m possible_gradient_type \u001b[38;5;241m=\u001b[39m gradients_util\u001b[38;5;241m.\u001b[39mPossibleTapeGradientTypes(args)\n\u001b[0;32m   1859\u001b[0m \u001b[38;5;28;01mif\u001b[39;00m (possible_gradient_type \u001b[38;5;241m==\u001b[39m gradients_util\u001b[38;5;241m.\u001b[39mPOSSIBLE_GRADIENT_TYPES_NONE\n\u001b[0;32m   1860\u001b[0m     \u001b[38;5;129;01mand\u001b[39;00m executing_eagerly):\n\u001b[0;32m   1861\u001b[0m   \u001b[38;5;66;03m# No tape is watching; skip to running the function.\u001b[39;00m\n\u001b[1;32m-> 1862\u001b[0m   \u001b[38;5;28;01mreturn\u001b[39;00m \u001b[38;5;28mself\u001b[39m\u001b[38;5;241m.\u001b[39m_build_call_outputs(\u001b[38;5;28;43mself\u001b[39;49m\u001b[38;5;241;43m.\u001b[39;49m\u001b[43m_inference_function\u001b[49m\u001b[38;5;241;43m.\u001b[39;49m\u001b[43mcall\u001b[49m\u001b[43m(\u001b[49m\n\u001b[0;32m   1863\u001b[0m \u001b[43m      \u001b[49m\u001b[43mctx\u001b[49m\u001b[43m,\u001b[49m\u001b[43m \u001b[49m\u001b[43margs\u001b[49m\u001b[43m,\u001b[49m\u001b[43m \u001b[49m\u001b[43mcancellation_manager\u001b[49m\u001b[38;5;241;43m=\u001b[39;49m\u001b[43mcancellation_manager\u001b[49m\u001b[43m)\u001b[49m)\n\u001b[0;32m   1864\u001b[0m forward_backward \u001b[38;5;241m=\u001b[39m \u001b[38;5;28mself\u001b[39m\u001b[38;5;241m.\u001b[39m_select_forward_and_backward_functions(\n\u001b[0;32m   1865\u001b[0m     args,\n\u001b[0;32m   1866\u001b[0m     possible_gradient_type,\n\u001b[0;32m   1867\u001b[0m     executing_eagerly)\n\u001b[0;32m   1868\u001b[0m forward_function, args_with_tangents \u001b[38;5;241m=\u001b[39m forward_backward\u001b[38;5;241m.\u001b[39mforward()\n",
      "File \u001b[1;32mc:\\conda\\envs\\tf\\lib\\site-packages\\tensorflow\\python\\eager\\function.py:499\u001b[0m, in \u001b[0;36m_EagerDefinedFunction.call\u001b[1;34m(self, ctx, args, cancellation_manager)\u001b[0m\n\u001b[0;32m    497\u001b[0m \u001b[38;5;28;01mwith\u001b[39;00m _InterpolateFunctionError(\u001b[38;5;28mself\u001b[39m):\n\u001b[0;32m    498\u001b[0m   \u001b[38;5;28;01mif\u001b[39;00m cancellation_manager \u001b[38;5;129;01mis\u001b[39;00m \u001b[38;5;28;01mNone\u001b[39;00m:\n\u001b[1;32m--> 499\u001b[0m     outputs \u001b[38;5;241m=\u001b[39m \u001b[43mexecute\u001b[49m\u001b[38;5;241;43m.\u001b[39;49m\u001b[43mexecute\u001b[49m\u001b[43m(\u001b[49m\n\u001b[0;32m    500\u001b[0m \u001b[43m        \u001b[49m\u001b[38;5;28;43mstr\u001b[39;49m\u001b[43m(\u001b[49m\u001b[38;5;28;43mself\u001b[39;49m\u001b[38;5;241;43m.\u001b[39;49m\u001b[43msignature\u001b[49m\u001b[38;5;241;43m.\u001b[39;49m\u001b[43mname\u001b[49m\u001b[43m)\u001b[49m\u001b[43m,\u001b[49m\n\u001b[0;32m    501\u001b[0m \u001b[43m        \u001b[49m\u001b[43mnum_outputs\u001b[49m\u001b[38;5;241;43m=\u001b[39;49m\u001b[38;5;28;43mself\u001b[39;49m\u001b[38;5;241;43m.\u001b[39;49m\u001b[43m_num_outputs\u001b[49m\u001b[43m,\u001b[49m\n\u001b[0;32m    502\u001b[0m \u001b[43m        \u001b[49m\u001b[43minputs\u001b[49m\u001b[38;5;241;43m=\u001b[39;49m\u001b[43margs\u001b[49m\u001b[43m,\u001b[49m\n\u001b[0;32m    503\u001b[0m \u001b[43m        \u001b[49m\u001b[43mattrs\u001b[49m\u001b[38;5;241;43m=\u001b[39;49m\u001b[43mattrs\u001b[49m\u001b[43m,\u001b[49m\n\u001b[0;32m    504\u001b[0m \u001b[43m        \u001b[49m\u001b[43mctx\u001b[49m\u001b[38;5;241;43m=\u001b[39;49m\u001b[43mctx\u001b[49m\u001b[43m)\u001b[49m\n\u001b[0;32m    505\u001b[0m   \u001b[38;5;28;01melse\u001b[39;00m:\n\u001b[0;32m    506\u001b[0m     outputs \u001b[38;5;241m=\u001b[39m execute\u001b[38;5;241m.\u001b[39mexecute_with_cancellation(\n\u001b[0;32m    507\u001b[0m         \u001b[38;5;28mstr\u001b[39m(\u001b[38;5;28mself\u001b[39m\u001b[38;5;241m.\u001b[39msignature\u001b[38;5;241m.\u001b[39mname),\n\u001b[0;32m    508\u001b[0m         num_outputs\u001b[38;5;241m=\u001b[39m\u001b[38;5;28mself\u001b[39m\u001b[38;5;241m.\u001b[39m_num_outputs,\n\u001b[1;32m   (...)\u001b[0m\n\u001b[0;32m    511\u001b[0m         ctx\u001b[38;5;241m=\u001b[39mctx,\n\u001b[0;32m    512\u001b[0m         cancellation_manager\u001b[38;5;241m=\u001b[39mcancellation_manager)\n",
      "File \u001b[1;32mc:\\conda\\envs\\tf\\lib\\site-packages\\tensorflow\\python\\eager\\execute.py:54\u001b[0m, in \u001b[0;36mquick_execute\u001b[1;34m(op_name, num_outputs, inputs, attrs, ctx, name)\u001b[0m\n\u001b[0;32m     52\u001b[0m \u001b[38;5;28;01mtry\u001b[39;00m:\n\u001b[0;32m     53\u001b[0m   ctx\u001b[38;5;241m.\u001b[39mensure_initialized()\n\u001b[1;32m---> 54\u001b[0m   tensors \u001b[38;5;241m=\u001b[39m \u001b[43mpywrap_tfe\u001b[49m\u001b[38;5;241;43m.\u001b[39;49m\u001b[43mTFE_Py_Execute\u001b[49m\u001b[43m(\u001b[49m\u001b[43mctx\u001b[49m\u001b[38;5;241;43m.\u001b[39;49m\u001b[43m_handle\u001b[49m\u001b[43m,\u001b[49m\u001b[43m \u001b[49m\u001b[43mdevice_name\u001b[49m\u001b[43m,\u001b[49m\u001b[43m \u001b[49m\u001b[43mop_name\u001b[49m\u001b[43m,\u001b[49m\n\u001b[0;32m     55\u001b[0m \u001b[43m                                      \u001b[49m\u001b[43minputs\u001b[49m\u001b[43m,\u001b[49m\u001b[43m \u001b[49m\u001b[43mattrs\u001b[49m\u001b[43m,\u001b[49m\u001b[43m \u001b[49m\u001b[43mnum_outputs\u001b[49m\u001b[43m)\u001b[49m\n\u001b[0;32m     56\u001b[0m \u001b[38;5;28;01mexcept\u001b[39;00m core\u001b[38;5;241m.\u001b[39m_NotOkStatusException \u001b[38;5;28;01mas\u001b[39;00m e:\n\u001b[0;32m     57\u001b[0m   \u001b[38;5;28;01mif\u001b[39;00m name \u001b[38;5;129;01mis\u001b[39;00m \u001b[38;5;129;01mnot\u001b[39;00m \u001b[38;5;28;01mNone\u001b[39;00m:\n",
      "\u001b[1;31mKeyboardInterrupt\u001b[0m: "
     ]
    }
   ],
   "source": [
    "£model.fit(train, validation_data=test, epochs=100, callbacks=[checkpoint_callback, schedule_callback, example_callback])"
   ]
  }
 ],
 "metadata": {
  "kernelspec": {
   "display_name": "tf",
   "language": "python",
   "name": "tf"
  },
  "language_info": {
   "codemirror_mode": {
    "name": "ipython",
    "version": 3
   },
   "file_extension": ".py",
   "mimetype": "text/x-python",
   "name": "python",
   "nbconvert_exporter": "python",
   "pygments_lexer": "ipython3",
   "version": "3.9.21"
  }
 },
 "nbformat": 4,
 "nbformat_minor": 5
}
