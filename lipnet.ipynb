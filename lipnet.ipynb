{
 "cells": [
  {
   "cell_type": "code",
   "execution_count": 3,
   "id": "6f104a17",
   "metadata": {},
   "outputs": [],
   "source": [
    "import os\n",
    "import cv2\n",
    "import tensorflow as tf\n",
    "import numpy as np\n",
    "from typing import List\n",
    "from matplotlib import pyplot as plt\n",
    "import imageio\n",
    "import gdown"
   ]
  },
  {
   "cell_type": "code",
   "execution_count": 4,
   "id": "acec364f",
   "metadata": {},
   "outputs": [],
   "source": [
    "gpus = tf.config.experimental.list_physical_devices('GPU')\n",
    "for gpu in gpus:\n",
    "    tf.config.experimental.set_memory_growth(gpu,True)\n"
   ]
  },
  {
   "cell_type": "code",
   "execution_count": 5,
   "id": "19cab139",
   "metadata": {},
   "outputs": [
    {
     "data": {
      "text/plain": [
       "\"\\nurl = 'https://drive.google.com/uc?id=1YlvpDLix3S-U8fd-gqRwPcWXAXm8JwjL'\\noutput = 'data.zip'\\ngdown.download(url, output, quiet=False)\\ngdown.extractall('data.zip')\\n\""
      ]
     },
     "execution_count": 5,
     "metadata": {},
     "output_type": "execute_result"
    }
   ],
   "source": [
    "\"\"\"\n",
    "url = 'https://drive.google.com/uc?id=1YlvpDLix3S-U8fd-gqRwPcWXAXm8JwjL'\n",
    "output = 'data.zip'\n",
    "gdown.download(url, output, quiet=False)\n",
    "gdown.extractall('data.zip')\n",
    "\"\"\""
   ]
  },
  {
   "cell_type": "code",
   "execution_count": 6,
   "id": "a99e8d43",
   "metadata": {},
   "outputs": [],
   "source": [
    "def load_video(path: str) -> tf.Tensor:\n",
    "    cap = cv2.VideoCapture(path)\n",
    "    frames = []\n",
    "\n",
    "    while True:\n",
    "        ret, frame = cap.read()\n",
    "        if not ret:\n",
    "            break\n",
    "        frame = tf.image.rgb_to_grayscale(frame)\n",
    "        cropped = frame[190:236, 80:220, :]\n",
    "        frames.append(cropped)\n",
    "\n",
    "    cap.release()\n",
    "\n",
    "    frames = tf.stack(frames)\n",
    "    frames = tf.cast(frames, tf.float32)\n",
    "    mean = tf.reduce_mean(frames)\n",
    "    std = tf.math.reduce_std(frames)\n",
    "\n",
    "    normalized = (frames - mean) / (std + 1e-6)\n",
    "    return normalized\n"
   ]
  },
  {
   "cell_type": "code",
   "execution_count": 7,
   "id": "429768cd",
   "metadata": {},
   "outputs": [],
   "source": [
    "vocab = [x for x in \"abcdefghijklmnopqrstuvwxyz'?!123456789 \"]"
   ]
  },
  {
   "cell_type": "code",
   "execution_count": 8,
   "id": "38f8201f",
   "metadata": {},
   "outputs": [
    {
     "name": "stdout",
     "output_type": "stream",
     "text": [
      "The vocabulary is: ['', 'a', 'b', 'c', 'd', 'e', 'f', 'g', 'h', 'i', 'j', 'k', 'l', 'm', 'n', 'o', 'p', 'q', 'r', 's', 't', 'u', 'v', 'w', 'x', 'y', 'z', \"'\", '?', '!', '1', '2', '3', '4', '5', '6', '7', '8', '9', ' '] (size =40)\n"
     ]
    }
   ],
   "source": [
    "char_to_num = tf.keras.layers.StringLookup(vocabulary=vocab, oov_token=\"\")\n",
    "num_to_char = tf.keras.layers.StringLookup(\n",
    "    vocabulary=char_to_num.get_vocabulary(), oov_token=\"\", invert=True\n",
    ")\n",
    "\n",
    "print(\n",
    "    f\"The vocabulary is: {char_to_num.get_vocabulary()} \"\n",
    "    f\"(size ={char_to_num.vocabulary_size()})\"\n",
    ")"
   ]
  },
  {
   "cell_type": "code",
   "execution_count": 9,
   "id": "e056dd3d",
   "metadata": {},
   "outputs": [
    {
     "data": {
      "text/plain": [
       "['',\n",
       " 'a',\n",
       " 'b',\n",
       " 'c',\n",
       " 'd',\n",
       " 'e',\n",
       " 'f',\n",
       " 'g',\n",
       " 'h',\n",
       " 'i',\n",
       " 'j',\n",
       " 'k',\n",
       " 'l',\n",
       " 'm',\n",
       " 'n',\n",
       " 'o',\n",
       " 'p',\n",
       " 'q',\n",
       " 'r',\n",
       " 's',\n",
       " 't',\n",
       " 'u',\n",
       " 'v',\n",
       " 'w',\n",
       " 'x',\n",
       " 'y',\n",
       " 'z',\n",
       " \"'\",\n",
       " '?',\n",
       " '!',\n",
       " '1',\n",
       " '2',\n",
       " '3',\n",
       " '4',\n",
       " '5',\n",
       " '6',\n",
       " '7',\n",
       " '8',\n",
       " '9',\n",
       " ' ']"
      ]
     },
     "execution_count": 9,
     "metadata": {},
     "output_type": "execute_result"
    }
   ],
   "source": [
    "char_to_num.get_vocabulary()"
   ]
  },
  {
   "cell_type": "code",
   "execution_count": 10,
   "id": "ab7e5e23",
   "metadata": {},
   "outputs": [
    {
     "data": {
      "text/plain": [
       "<tf.Tensor: shape=(4,), dtype=int64, numpy=array([14,  9,  3, 11], dtype=int64)>"
      ]
     },
     "execution_count": 10,
     "metadata": {},
     "output_type": "execute_result"
    }
   ],
   "source": [
    "char_to_num(['n','i','c','k'])"
   ]
  },
  {
   "cell_type": "code",
   "execution_count": 11,
   "id": "1efdc125",
   "metadata": {},
   "outputs": [
    {
     "data": {
      "text/plain": [
       "<tf.Tensor: shape=(4,), dtype=string, numpy=array([b'n', b'i', b'c', b'k'], dtype=object)>"
      ]
     },
     "execution_count": 11,
     "metadata": {},
     "output_type": "execute_result"
    }
   ],
   "source": [
    "num_to_char([14,  9,  3, 11])"
   ]
  },
  {
   "cell_type": "code",
   "execution_count": 12,
   "id": "45303d7d",
   "metadata": {},
   "outputs": [],
   "source": [
    "def load_alignments(path:str) -> List[str]: \n",
    "    with open(path, 'r') as f: \n",
    "        lines = f.readlines() \n",
    "    tokens = []\n",
    "    for line in lines:\n",
    "        line = line.split()\n",
    "        if line[2] != 'sil': \n",
    "            tokens = [*tokens,' ',line[2]]\n",
    "    return char_to_num(tf.reshape(tf.strings.unicode_split(tokens, input_encoding='UTF-8'), (-1)))[1:]"
   ]
  },
  {
   "cell_type": "code",
   "execution_count": 13,
   "id": "004356ff",
   "metadata": {},
   "outputs": [],
   "source": [
    "def load_data(path: str): \n",
    "    path = bytes.decode(path.numpy())\n",
    "    #file_name = path.split('/')[-1].split('.')[0]\n",
    "    # File name splitting for windows\n",
    "    file_name = path.split('\\\\')[-1].split('.')[0]\n",
    "    video_path = os.path.join('data','s1',f'{file_name}.mpg')\n",
    "    alignment_path = os.path.join('data','alignments','s1',f'{file_name}.align')\n",
    "    frames = load_video(video_path) \n",
    "    alignments = load_alignments(alignment_path)\n",
    "    return frames, alignments"
   ]
  },
  {
   "cell_type": "code",
   "execution_count": 14,
   "id": "d3130ae7",
   "metadata": {},
   "outputs": [],
   "source": [
    "test_path = '.\\\\data\\\\s1\\\\bbal6n.mpg'"
   ]
  },
  {
   "cell_type": "code",
   "execution_count": 15,
   "id": "945bc3d7",
   "metadata": {},
   "outputs": [
    {
     "data": {
      "text/plain": [
       "'bbal6n'"
      ]
     },
     "execution_count": 15,
     "metadata": {},
     "output_type": "execute_result"
    }
   ],
   "source": [
    "tf.convert_to_tensor(test_path).numpy().decode('utf-8').split('\\\\')[-1].split('.')[0]"
   ]
  },
  {
   "cell_type": "code",
   "execution_count": 16,
   "id": "f2bf6287",
   "metadata": {},
   "outputs": [],
   "source": [
    "frames, alignments = load_data(tf.convert_to_tensor(test_path))"
   ]
  },
  {
   "cell_type": "code",
   "execution_count": 17,
   "id": "f0d8bfe5",
   "metadata": {},
   "outputs": [
    {
     "data": {
      "text/plain": [
       "<matplotlib.image.AxesImage at 0x2a9a08d1fd0>"
      ]
     },
     "execution_count": 17,
     "metadata": {},
     "output_type": "execute_result"
    },
    {
     "data": {
      "image/png": "[encoded data removed]",
      "text/plain": [
       "<Figure size 640x480 with 1 Axes>"
      ]
     },
     "metadata": {},
     "output_type": "display_data"
    }
   ],
   "source": [
    "plt.imshow(frames[40])"
   ]
  },
  {
   "cell_type": "code",
   "execution_count": 18,
   "id": "8dcc63ba",
   "metadata": {},
   "outputs": [
    {
     "data": {
      "text/plain": [
       "<tf.Tensor: shape=(21,), dtype=int64, numpy=\n",
       "array([ 2,  9, 14, 39,  2, 12, 21,  5, 39,  1, 20, 39, 12, 39, 19,  9, 24,\n",
       "       39, 14, 15, 23], dtype=int64)>"
      ]
     },
     "execution_count": 18,
     "metadata": {},
     "output_type": "execute_result"
    }
   ],
   "source": [
    "alignments"
   ]
  },
  {
   "cell_type": "code",
   "execution_count": 19,
   "id": "6cb0359f",
   "metadata": {},
   "outputs": [
    {
     "data": {
      "text/plain": [
       "<tf.Tensor: shape=(), dtype=string, numpy=b'bin blue at l six now'>"
      ]
     },
     "execution_count": 19,
     "metadata": {},
     "output_type": "execute_result"
    }
   ],
   "source": [
    "tf.strings.reduce_join([bytes.decode(x) for x in num_to_char(alignments.numpy()).numpy()])"
   ]
  },
  {
   "cell_type": "code",
   "execution_count": 20,
   "id": "65c20658",
   "metadata": {},
   "outputs": [],
   "source": [
    "def mappable_function(path:str) ->List[str]:\n",
    "    result = tf.py_function(load_data, [path], (tf.float32, tf.int64))\n",
    "    return result"
   ]
  },
  {
   "cell_type": "markdown",
   "id": "7a02f26d",
   "metadata": {},
   "source": [
    "2. Data pipeline"
   ]
  },
  {
   "cell_type": "code",
   "execution_count": 21,
   "id": "90187403",
   "metadata": {},
   "outputs": [],
   "source": [
    "from matplotlib import pyplot as plt"
   ]
  },
  {
   "cell_type": "code",
   "execution_count": 22,
   "id": "8cb0877a",
   "metadata": {},
   "outputs": [],
   "source": [
    "data = tf.data.Dataset.list_files('./data/s1/*.mpg')\n",
    "data = data.shuffle(500, reshuffle_each_iteration=False)\n",
    "data = data.map(mappable_function)\n",
    "data = data.padded_batch(2, padded_shapes=([75,None,None,None],[40]))\n",
    "data = data.prefetch(tf.data.AUTOTUNE)\n",
    "# Added for split \n",
    "train = data.take(450)\n",
    "test = data.skip(450)"
   ]
  },
  {
   "cell_type": "code",
   "execution_count": 23,
   "id": "a8c3ba36",
   "metadata": {},
   "outputs": [
    {
     "data": {
      "text/plain": [
       "50"
      ]
     },
     "execution_count": 23,
     "metadata": {},
     "output_type": "execute_result"
    }
   ],
   "source": [
    "len(test)"
   ]
  },
  {
   "cell_type": "code",
   "execution_count": 24,
   "id": "b6096838",
   "metadata": {},
   "outputs": [],
   "source": [
    "frames, alignments = data.as_numpy_iterator().next()"
   ]
  },
  {
   "cell_type": "code",
   "execution_count": 25,
   "id": "d300fa28",
   "metadata": {},
   "outputs": [
    {
     "data": {
      "text/plain": [
       "2"
      ]
     },
     "execution_count": 25,
     "metadata": {},
     "output_type": "execute_result"
    }
   ],
   "source": [
    "len(frames)"
   ]
  },
  {
   "cell_type": "code",
   "execution_count": 26,
   "id": "d2cc2c46",
   "metadata": {},
   "outputs": [],
   "source": [
    "sample = data.as_numpy_iterator()"
   ]
  },
  {
   "cell_type": "code",
   "execution_count": 27,
   "id": "42c3356a",
   "metadata": {},
   "outputs": [
    {
     "data": {
      "text/plain": [
       "array([[[[[ 1.4427308 ],\n",
       "          [ 1.4427308 ],\n",
       "          [ 1.4427308 ],\n",
       "          ...,\n",
       "          [-0.2567506 ],\n",
       "          [-0.4148419 ],\n",
       "          [-0.65197885]],\n",
       "\n",
       "         [[ 1.4427308 ],\n",
       "          [ 1.4427308 ],\n",
       "          [ 1.4427308 ],\n",
       "          ...,\n",
       "          [-1.0076842 ],\n",
       "          [-0.45436472],\n",
       "          [-0.49388754]],\n",
       "\n",
       "         [[ 1.3241624 ],\n",
       "          [ 1.3241624 ],\n",
       "          [ 1.3241624 ],\n",
       "          ...,\n",
       "          [-0.49388754],\n",
       "          [-0.09865931],\n",
       "          [-0.09865931]],\n",
       "\n",
       "         ...,\n",
       "\n",
       "         [[ 0.9289341 ],\n",
       "          [ 0.9289341 ],\n",
       "          [ 0.9289341 ],\n",
       "          ...,\n",
       "          [-0.01961366],\n",
       "          [-0.01961366],\n",
       "          [-0.01961366]],\n",
       "\n",
       "         [[ 0.9289341 ],\n",
       "          [ 0.9289341 ],\n",
       "          [ 0.9289341 ],\n",
       "          ...,\n",
       "          [-0.01961366],\n",
       "          [-0.01961366],\n",
       "          [-0.01961366]],\n",
       "\n",
       "         [[ 0.9289341 ],\n",
       "          [ 0.9289341 ],\n",
       "          [ 0.9289341 ],\n",
       "          ...,\n",
       "          [-0.01961366],\n",
       "          [-0.01961366],\n",
       "          [-0.05913648]]],\n",
       "\n",
       "\n",
       "        [[[ 1.403208  ],\n",
       "          [ 1.403208  ],\n",
       "          [ 1.403208  ],\n",
       "          ...,\n",
       "          [-0.2962734 ],\n",
       "          [-0.37531906],\n",
       "          [-0.33579624]],\n",
       "\n",
       "         [[ 1.403208  ],\n",
       "          [ 1.403208  ],\n",
       "          [ 1.403208  ],\n",
       "          ...,\n",
       "          [-1.1262528 ],\n",
       "          [-0.33579624],\n",
       "          [-0.49388754]],\n",
       "\n",
       "         [[ 1.2846395 ],\n",
       "          [ 1.2846395 ],\n",
       "          [ 1.2846395 ],\n",
       "          ...,\n",
       "          [-0.49388754],\n",
       "          [-0.05913648],\n",
       "          [-0.05913648]],\n",
       "\n",
       "         ...,\n",
       "\n",
       "         [[ 0.9289341 ],\n",
       "          [ 0.9289341 ],\n",
       "          [ 0.9289341 ],\n",
       "          ...,\n",
       "          [-0.01961366],\n",
       "          [-0.05913648],\n",
       "          [-0.05913648]],\n",
       "\n",
       "         [[ 0.9289341 ],\n",
       "          [ 0.9289341 ],\n",
       "          [ 0.9289341 ],\n",
       "          ...,\n",
       "          [-0.05913648],\n",
       "          [-0.05913648],\n",
       "          [-0.09865931]],\n",
       "\n",
       "         [[ 0.9289341 ],\n",
       "          [ 0.9289341 ],\n",
       "          [ 0.9289341 ],\n",
       "          ...,\n",
       "          [-0.05913648],\n",
       "          [-0.09865931],\n",
       "          [-0.09865931]]],\n",
       "\n",
       "\n",
       "        [[[ 1.3241624 ],\n",
       "          [ 1.3241624 ],\n",
       "          [ 1.3241624 ],\n",
       "          ...,\n",
       "          [-0.2962734 ],\n",
       "          [-0.33579624],\n",
       "          [-0.2962734 ]],\n",
       "\n",
       "         [[ 1.3241624 ],\n",
       "          [ 1.3241624 ],\n",
       "          [ 1.3241624 ],\n",
       "          ...,\n",
       "          [-1.1262528 ],\n",
       "          [-0.2962734 ],\n",
       "          [-0.37531906]],\n",
       "\n",
       "         [[ 1.2846395 ],\n",
       "          [ 1.2846395 ],\n",
       "          [ 1.2846395 ],\n",
       "          ...,\n",
       "          [-0.49388754],\n",
       "          [-0.05913648],\n",
       "          [-0.05913648]],\n",
       "\n",
       "         ...,\n",
       "\n",
       "         [[ 0.8894113 ],\n",
       "          [ 0.8894113 ],\n",
       "          [ 0.8894113 ],\n",
       "          ...,\n",
       "          [-0.01961366],\n",
       "          [-0.05913648],\n",
       "          [-0.09865931]],\n",
       "\n",
       "         [[ 0.8894113 ],\n",
       "          [ 0.8894113 ],\n",
       "          [ 0.8894113 ],\n",
       "          ...,\n",
       "          [-0.01961366],\n",
       "          [-0.09865931],\n",
       "          [-0.09865931]],\n",
       "\n",
       "         [[ 0.8894113 ],\n",
       "          [ 0.8894113 ],\n",
       "          [ 0.8894113 ],\n",
       "          ...,\n",
       "          [-0.05913648],\n",
       "          [-0.09865931],\n",
       "          [-0.09865931]]],\n",
       "\n",
       "\n",
       "        ...,\n",
       "\n",
       "\n",
       "        [[[ 1.4427308 ],\n",
       "          [ 1.4427308 ],\n",
       "          [ 1.3636851 ],\n",
       "          ...,\n",
       "          [-0.05913648],\n",
       "          [ 0.09895481],\n",
       "          [ 0.01990916]],\n",
       "\n",
       "         [[ 1.3636851 ],\n",
       "          [ 1.3636851 ],\n",
       "          [ 1.2846395 ],\n",
       "          ...,\n",
       "          [-0.05913648],\n",
       "          [ 0.01990916],\n",
       "          [-0.05913648]],\n",
       "\n",
       "         [[ 1.3636851 ],\n",
       "          [ 1.3636851 ],\n",
       "          [ 1.3241624 ],\n",
       "          ...,\n",
       "          [ 0.05943199],\n",
       "          [ 0.05943199],\n",
       "          [ 0.05943199]],\n",
       "\n",
       "         ...,\n",
       "\n",
       "         [[ 0.9684569 ],\n",
       "          [ 0.9684569 ],\n",
       "          [ 0.9289341 ],\n",
       "          ...,\n",
       "          [-0.13818213],\n",
       "          [-0.13818213],\n",
       "          [-0.13818213]],\n",
       "\n",
       "         [[ 0.9289341 ],\n",
       "          [ 0.9289341 ],\n",
       "          [ 0.9289341 ],\n",
       "          ...,\n",
       "          [-0.09865931],\n",
       "          [-0.13818213],\n",
       "          [-0.13818213]],\n",
       "\n",
       "         [[ 0.9289341 ],\n",
       "          [ 0.9289341 ],\n",
       "          [ 0.9289341 ],\n",
       "          ...,\n",
       "          [-0.09865931],\n",
       "          [-0.13818213],\n",
       "          [-0.17770496]]],\n",
       "\n",
       "\n",
       "        [[[ 1.4427308 ],\n",
       "          [ 1.4427308 ],\n",
       "          [ 1.403208  ],\n",
       "          ...,\n",
       "          [-0.05913648],\n",
       "          [ 0.09895481],\n",
       "          [ 0.05943199]],\n",
       "\n",
       "         [[ 1.403208  ],\n",
       "          [ 1.403208  ],\n",
       "          [ 1.3636851 ],\n",
       "          ...,\n",
       "          [-0.09865931],\n",
       "          [ 0.05943199],\n",
       "          [-0.09865931]],\n",
       "\n",
       "         [[ 1.3241624 ],\n",
       "          [ 1.3241624 ],\n",
       "          [ 1.3636851 ],\n",
       "          ...,\n",
       "          [ 0.01990916],\n",
       "          [ 0.05943199],\n",
       "          [ 0.05943199]],\n",
       "\n",
       "         ...,\n",
       "\n",
       "         [[ 0.8894113 ],\n",
       "          [ 0.9289341 ],\n",
       "          [ 0.8894113 ],\n",
       "          ...,\n",
       "          [-0.09865931],\n",
       "          [-0.13818213],\n",
       "          [-0.13818213]],\n",
       "\n",
       "         [[ 0.8894113 ],\n",
       "          [ 0.8894113 ],\n",
       "          [ 0.8894113 ],\n",
       "          ...,\n",
       "          [-0.09865931],\n",
       "          [-0.09865931],\n",
       "          [-0.09865931]],\n",
       "\n",
       "         [[ 0.8894113 ],\n",
       "          [ 0.8894113 ],\n",
       "          [ 0.8894113 ],\n",
       "          ...,\n",
       "          [-0.09865931],\n",
       "          [-0.09865931],\n",
       "          [-0.13818213]]],\n",
       "\n",
       "\n",
       "        [[[ 1.3636851 ],\n",
       "          [ 1.3636851 ],\n",
       "          [ 1.3636851 ],\n",
       "          ...,\n",
       "          [-0.13818213],\n",
       "          [ 0.13847764],\n",
       "          [ 0.13847764]],\n",
       "\n",
       "         [[ 1.2846395 ],\n",
       "          [ 1.2846395 ],\n",
       "          [ 1.2846395 ],\n",
       "          ...,\n",
       "          [-0.01961366],\n",
       "          [ 0.09895481],\n",
       "          [-0.05913648]],\n",
       "\n",
       "         [[ 1.3636851 ],\n",
       "          [ 1.3636851 ],\n",
       "          [ 1.3241624 ],\n",
       "          ...,\n",
       "          [ 0.09895481],\n",
       "          [ 0.17800047],\n",
       "          [ 0.17800047]],\n",
       "\n",
       "         ...,\n",
       "\n",
       "         [[ 0.9289341 ],\n",
       "          [ 0.9684569 ],\n",
       "          [ 0.8894113 ],\n",
       "          ...,\n",
       "          [-0.09865931],\n",
       "          [-0.09865931],\n",
       "          [-0.09865931]],\n",
       "\n",
       "         [[ 0.9289341 ],\n",
       "          [ 0.9289341 ],\n",
       "          [ 0.8894113 ],\n",
       "          ...,\n",
       "          [-0.09865931],\n",
       "          [-0.09865931],\n",
       "          [-0.09865931]],\n",
       "\n",
       "         [[ 0.9289341 ],\n",
       "          [ 0.9289341 ],\n",
       "          [ 0.8894113 ],\n",
       "          ...,\n",
       "          [-0.09865931],\n",
       "          [-0.09865931],\n",
       "          [-0.13818213]]]],\n",
       "\n",
       "\n",
       "\n",
       "       [[[[ 1.2898066 ],\n",
       "          [ 1.0977955 ],\n",
       "          [ 0.6369687 ],\n",
       "          ...,\n",
       "          [ 0.29134858],\n",
       "          [ 0.3297508 ],\n",
       "          [ 0.3297508 ]],\n",
       "\n",
       "         [[ 1.2130021 ],\n",
       "          [ 1.0977955 ],\n",
       "          [ 0.4449575 ],\n",
       "          ...,\n",
       "          [ 0.29134858],\n",
       "          [ 0.3297508 ],\n",
       "          [ 0.3297508 ]],\n",
       "\n",
       "         [[ 1.2514044 ],\n",
       "          [ 1.366611  ],\n",
       "          [ 1.0977955 ],\n",
       "          ...,\n",
       "          [ 0.3297508 ],\n",
       "          [ 0.29134858],\n",
       "          [ 0.29134858]],\n",
       "\n",
       "         ...,\n",
       "\n",
       "         [[ 1.0593932 ],\n",
       "          [ 1.0593932 ],\n",
       "          [ 1.0593932 ],\n",
       "          ...,\n",
       "          [ 0.06093518],\n",
       "          [ 0.02253295],\n",
       "          [-0.01586928]],\n",
       "\n",
       "         [[ 1.020991  ],\n",
       "          [ 1.020991  ],\n",
       "          [ 1.020991  ],\n",
       "          ...,\n",
       "          [ 0.02253295],\n",
       "          [ 0.02253295],\n",
       "          [-0.01586928]],\n",
       "\n",
       "         [[ 1.020991  ],\n",
       "          [ 1.020991  ],\n",
       "          [ 1.020991  ],\n",
       "          ...,\n",
       "          [ 0.02253295],\n",
       "          [ 0.02253295],\n",
       "          [-0.01586928]]],\n",
       "\n",
       "\n",
       "        [[[ 1.1745999 ],\n",
       "          [ 1.2898066 ],\n",
       "          [ 0.5601642 ],\n",
       "          ...,\n",
       "          [ 0.25294635],\n",
       "          [ 0.29134858],\n",
       "          [ 0.29134858]],\n",
       "\n",
       "         [[ 1.2130021 ],\n",
       "          [ 1.1361977 ],\n",
       "          [ 0.5601642 ],\n",
       "          ...,\n",
       "          [ 0.25294635],\n",
       "          [ 0.29134858],\n",
       "          [ 0.29134858]],\n",
       "\n",
       "         [[ 1.2898066 ],\n",
       "          [ 1.4050133 ],\n",
       "          [ 1.1361977 ],\n",
       "          ...,\n",
       "          [ 0.3297508 ],\n",
       "          [ 0.29134858],\n",
       "          [ 0.29134858]],\n",
       "\n",
       "         ...,\n",
       "\n",
       "         [[ 1.0977955 ],\n",
       "          [ 1.0977955 ],\n",
       "          [ 1.0977955 ],\n",
       "          ...,\n",
       "          [ 0.02253295],\n",
       "          [ 0.02253295],\n",
       "          [-0.01586928]],\n",
       "\n",
       "         [[ 1.020991  ],\n",
       "          [ 0.9825887 ],\n",
       "          [ 0.9825887 ],\n",
       "          ...,\n",
       "          [ 0.02253295],\n",
       "          [-0.01586928],\n",
       "          [-0.01586928]],\n",
       "\n",
       "         [[ 0.9825887 ],\n",
       "          [ 0.9825887 ],\n",
       "          [ 0.9825887 ],\n",
       "          ...,\n",
       "          [-0.01586928],\n",
       "          [-0.01586928],\n",
       "          [-0.01586928]]],\n",
       "\n",
       "\n",
       "        [[[ 1.2130021 ],\n",
       "          [ 1.3282088 ],\n",
       "          [ 0.52176195],\n",
       "          ...,\n",
       "          [ 0.25294635],\n",
       "          [ 0.29134858],\n",
       "          [ 0.29134858]],\n",
       "\n",
       "         [[ 1.1745999 ],\n",
       "          [ 1.1745999 ],\n",
       "          [ 0.52176195],\n",
       "          ...,\n",
       "          [ 0.25294635],\n",
       "          [ 0.29134858],\n",
       "          [ 0.29134858]],\n",
       "\n",
       "         [[ 1.2514044 ],\n",
       "          [ 1.4050133 ],\n",
       "          [ 1.1361977 ],\n",
       "          ...,\n",
       "          [ 0.3297508 ],\n",
       "          [ 0.29134858],\n",
       "          [ 0.29134858]],\n",
       "\n",
       "         ...,\n",
       "\n",
       "         [[ 1.1745999 ],\n",
       "          [ 1.1745999 ],\n",
       "          [ 1.1745999 ],\n",
       "          ...,\n",
       "          [ 0.06093518],\n",
       "          [ 0.06093518],\n",
       "          [ 0.02253295]],\n",
       "\n",
       "         [[ 1.020991  ],\n",
       "          [ 0.9825887 ],\n",
       "          [ 0.9825887 ],\n",
       "          ...,\n",
       "          [ 0.02253295],\n",
       "          [-0.01586928],\n",
       "          [-0.01586928]],\n",
       "\n",
       "         [[ 0.9825887 ],\n",
       "          [ 0.9825887 ],\n",
       "          [ 0.9825887 ],\n",
       "          ...,\n",
       "          [-0.01586928],\n",
       "          [-0.01586928],\n",
       "          [-0.01586928]]],\n",
       "\n",
       "\n",
       "        ...,\n",
       "\n",
       "\n",
       "        [[[ 1.366611  ],\n",
       "          [ 1.366611  ],\n",
       "          [ 0.90578425],\n",
       "          ...,\n",
       "          [ 0.3297508 ],\n",
       "          [ 0.25294635],\n",
       "          [ 0.25294635]],\n",
       "\n",
       "         [[ 1.4434155 ],\n",
       "          [ 1.2130021 ],\n",
       "          [ 0.7905776 ],\n",
       "          ...,\n",
       "          [ 0.3297508 ],\n",
       "          [ 0.25294635],\n",
       "          [ 0.25294635]],\n",
       "\n",
       "         [[ 1.4050133 ],\n",
       "          [ 1.5586222 ],\n",
       "          [ 1.4050133 ],\n",
       "          ...,\n",
       "          [ 0.29134858],\n",
       "          [ 0.29134858],\n",
       "          [ 0.29134858]],\n",
       "\n",
       "         ...,\n",
       "\n",
       "         [[ 1.0593932 ],\n",
       "          [ 1.0593932 ],\n",
       "          [ 1.0593932 ],\n",
       "          ...,\n",
       "          [ 0.02253295],\n",
       "          [ 0.02253295],\n",
       "          [ 0.02253295]],\n",
       "\n",
       "         [[ 1.0593932 ],\n",
       "          [ 1.0593932 ],\n",
       "          [ 1.0593932 ],\n",
       "          ...,\n",
       "          [ 0.02253295],\n",
       "          [ 0.02253295],\n",
       "          [ 0.02253295]],\n",
       "\n",
       "         [[ 1.0593932 ],\n",
       "          [ 1.0593932 ],\n",
       "          [ 1.020991  ],\n",
       "          ...,\n",
       "          [ 0.02253295],\n",
       "          [ 0.02253295],\n",
       "          [-0.01586928]]],\n",
       "\n",
       "\n",
       "        [[[ 1.4434155 ],\n",
       "          [ 1.4818177 ],\n",
       "          [ 1.020991  ],\n",
       "          ...,\n",
       "          [ 0.29134858],\n",
       "          [ 0.25294635],\n",
       "          [ 0.25294635]],\n",
       "\n",
       "         [[ 1.4818177 ],\n",
       "          [ 1.4050133 ],\n",
       "          [ 0.9441865 ],\n",
       "          ...,\n",
       "          [ 0.29134858],\n",
       "          [ 0.25294635],\n",
       "          [ 0.25294635]],\n",
       "\n",
       "         [[ 1.4818177 ],\n",
       "          [ 1.4818177 ],\n",
       "          [ 1.3282088 ],\n",
       "          ...,\n",
       "          [ 0.3297508 ],\n",
       "          [ 0.29134858],\n",
       "          [ 0.29134858]],\n",
       "\n",
       "         ...,\n",
       "\n",
       "         [[ 1.0593932 ],\n",
       "          [ 1.0593932 ],\n",
       "          [ 1.0593932 ],\n",
       "          ...,\n",
       "          [ 0.02253295],\n",
       "          [ 0.02253295],\n",
       "          [ 0.02253295]],\n",
       "\n",
       "         [[ 1.0593932 ],\n",
       "          [ 1.0593932 ],\n",
       "          [ 1.0593932 ],\n",
       "          ...,\n",
       "          [ 0.02253295],\n",
       "          [ 0.02253295],\n",
       "          [ 0.02253295]],\n",
       "\n",
       "         [[ 1.0593932 ],\n",
       "          [ 1.0593932 ],\n",
       "          [ 1.020991  ],\n",
       "          ...,\n",
       "          [-0.01586928],\n",
       "          [-0.01586928],\n",
       "          [-0.01586928]]],\n",
       "\n",
       "\n",
       "        [[[ 1.4050133 ],\n",
       "          [ 1.4434155 ],\n",
       "          [ 1.020991  ],\n",
       "          ...,\n",
       "          [ 0.29134858],\n",
       "          [ 0.29134858],\n",
       "          [ 0.29134858]],\n",
       "\n",
       "         [[ 1.366611  ],\n",
       "          [ 1.2898066 ],\n",
       "          [ 0.9441865 ],\n",
       "          ...,\n",
       "          [ 0.29134858],\n",
       "          [ 0.29134858],\n",
       "          [ 0.29134858]],\n",
       "\n",
       "         [[ 1.4818177 ],\n",
       "          [ 1.4818177 ],\n",
       "          [ 1.2898066 ],\n",
       "          ...,\n",
       "          [ 0.3297508 ],\n",
       "          [ 0.3297508 ],\n",
       "          [ 0.29134858]],\n",
       "\n",
       "         ...,\n",
       "\n",
       "         [[ 1.0593932 ],\n",
       "          [ 1.0593932 ],\n",
       "          [ 1.0593932 ],\n",
       "          ...,\n",
       "          [ 0.02253295],\n",
       "          [ 0.02253295],\n",
       "          [-0.01586928]],\n",
       "\n",
       "         [[ 1.0593932 ],\n",
       "          [ 1.0593932 ],\n",
       "          [ 1.0593932 ],\n",
       "          ...,\n",
       "          [-0.01586928],\n",
       "          [-0.01586928],\n",
       "          [-0.01586928]],\n",
       "\n",
       "         [[ 1.0593932 ],\n",
       "          [ 1.0593932 ],\n",
       "          [ 1.020991  ],\n",
       "          ...,\n",
       "          [-0.01586928],\n",
       "          [-0.01586928],\n",
       "          [-0.05427151]]]]], dtype=float32)"
      ]
     },
     "execution_count": 27,
     "metadata": {},
     "output_type": "execute_result"
    }
   ],
   "source": [
    "val = sample.next(); val[0]"
   ]
  },
  {
   "cell_type": "code",
   "execution_count": 28,
   "id": "a7c2c1c5",
   "metadata": {},
   "outputs": [
    {
     "name": "stderr",
     "output_type": "stream",
     "text": [
      "Lossy conversion from float32 to uint8. Range [-4.959966659545898, 2.0355732440948486]. Convert image to uint8 prior to saving to suppress this warning.\n",
      "Lossy conversion from float32 to uint8. Range [-5.039012432098389, 1.9960503578186035]. Convert image to uint8 prior to saving to suppress this warning.\n",
      "Lossy conversion from float32 to uint8. Range [-4.920444011688232, 2.0355732440948486]. Convert image to uint8 prior to saving to suppress this warning.\n",
      "Lossy conversion from float32 to uint8. Range [-4.841398239135742, 1.9960503578186035]. Convert image to uint8 prior to saving to suppress this warning.\n",
      "Lossy conversion from float32 to uint8. Range [-4.762352466583252, 1.9960503578186035]. Convert image to uint8 prior to saving to suppress this warning.\n",
      "Lossy conversion from float32 to uint8. Range [-4.9994893074035645, 1.9960503578186035]. Convert image to uint8 prior to saving to suppress this warning.\n",
      "Lossy conversion from float32 to uint8. Range [-5.078535079956055, 2.0355732440948486]. Convert image to uint8 prior to saving to suppress this warning.\n",
      "Lossy conversion from float32 to uint8. Range [-4.9994893074035645, 2.0355732440948486]. Convert image to uint8 prior to saving to suppress this warning.\n",
      "Lossy conversion from float32 to uint8. Range [-4.959966659545898, 1.9565274715423584]. Convert image to uint8 prior to saving to suppress this warning.\n",
      "Lossy conversion from float32 to uint8. Range [-4.446169853210449, 1.9565274715423584]. Convert image to uint8 prior to saving to suppress this warning.\n",
      "Lossy conversion from float32 to uint8. Range [-4.60426139831543, 1.9565274715423584]. Convert image to uint8 prior to saving to suppress this warning.\n",
      "Lossy conversion from float32 to uint8. Range [-4.446169853210449, 2.0355732440948486]. Convert image to uint8 prior to saving to suppress this warning.\n",
      "Lossy conversion from float32 to uint8. Range [-4.248555660247803, 2.0355732440948486]. Convert image to uint8 prior to saving to suppress this warning.\n",
      "Lossy conversion from float32 to uint8. Range [-4.209033012390137, 2.154141664505005]. Convert image to uint8 prior to saving to suppress this warning.\n",
      "Lossy conversion from float32 to uint8. Range [-4.209033012390137, 2.0355732440948486]. Convert image to uint8 prior to saving to suppress this warning.\n",
      "Lossy conversion from float32 to uint8. Range [-4.406647205352783, 2.0355732440948486]. Convert image to uint8 prior to saving to suppress this warning.\n",
      "Lossy conversion from float32 to uint8. Range [-4.406647205352783, 2.0750958919525146]. Convert image to uint8 prior to saving to suppress this warning.\n",
      "Lossy conversion from float32 to uint8. Range [-4.288078784942627, 2.1146187782287598]. Convert image to uint8 prior to saving to suppress this warning.\n",
      "Lossy conversion from float32 to uint8. Range [-4.367124080657959, 1.9960503578186035]. Convert image to uint8 prior to saving to suppress this warning.\n",
      "Lossy conversion from float32 to uint8. Range [-4.209033012390137, 1.9960503578186035]. Convert image to uint8 prior to saving to suppress this warning.\n",
      "Lossy conversion from float32 to uint8. Range [-4.169510364532471, 1.9960503578186035]. Convert image to uint8 prior to saving to suppress this warning.\n",
      "Lossy conversion from float32 to uint8. Range [-4.1299872398376465, 2.0355732440948486]. Convert image to uint8 prior to saving to suppress this warning.\n",
      "Lossy conversion from float32 to uint8. Range [-4.959966659545898, 1.9960503578186035]. Convert image to uint8 prior to saving to suppress this warning.\n",
      "Lossy conversion from float32 to uint8. Range [-4.643784046173096, 2.0750958919525146]. Convert image to uint8 prior to saving to suppress this warning.\n",
      "Lossy conversion from float32 to uint8. Range [-4.406647205352783, 2.1146187782287598]. Convert image to uint8 prior to saving to suppress this warning.\n",
      "Lossy conversion from float32 to uint8. Range [-4.485692501068115, 2.0750958919525146]. Convert image to uint8 prior to saving to suppress this warning.\n",
      "Lossy conversion from float32 to uint8. Range [-4.60426139831543, 2.0750958919525146]. Convert image to uint8 prior to saving to suppress this warning.\n",
      "Lossy conversion from float32 to uint8. Range [-4.762352466583252, 2.1146187782287598]. Convert image to uint8 prior to saving to suppress this warning.\n",
      "Lossy conversion from float32 to uint8. Range [-3.7347590923309326, 2.0750958919525146]. Convert image to uint8 prior to saving to suppress this warning.\n",
      "Lossy conversion from float32 to uint8. Range [-3.853327512741089, 2.0750958919525146]. Convert image to uint8 prior to saving to suppress this warning.\n",
      "Lossy conversion from float32 to uint8. Range [-3.853327512741089, 2.154141664505005]. Convert image to uint8 prior to saving to suppress this warning.\n",
      "Lossy conversion from float32 to uint8. Range [-4.446169853210449, 2.0750958919525146]. Convert image to uint8 prior to saving to suppress this warning.\n",
      "Lossy conversion from float32 to uint8. Range [-4.367124080657959, 2.154141664505005]. Convert image to uint8 prior to saving to suppress this warning.\n",
      "Lossy conversion from float32 to uint8. Range [-4.1299872398376465, 2.272710084915161]. Convert image to uint8 prior to saving to suppress this warning.\n",
      "Lossy conversion from float32 to uint8. Range [-3.853327512741089, 2.154141664505005]. Convert image to uint8 prior to saving to suppress this warning.\n",
      "Lossy conversion from float32 to uint8. Range [-3.971895933151245, 2.154141664505005]. Convert image to uint8 prior to saving to suppress this warning.\n",
      "Lossy conversion from float32 to uint8. Range [-4.60426139831543, 1.9960503578186035]. Convert image to uint8 prior to saving to suppress this warning.\n",
      "Lossy conversion from float32 to uint8. Range [-4.841398239135742, 2.1146187782287598]. Convert image to uint8 prior to saving to suppress this warning.\n",
      "Lossy conversion from float32 to uint8. Range [-4.367124080657959, 2.19366455078125]. Convert image to uint8 prior to saving to suppress this warning.\n",
      "Lossy conversion from float32 to uint8. Range [-4.050941467285156, 2.233187198638916]. Convert image to uint8 prior to saving to suppress this warning.\n",
      "Lossy conversion from float32 to uint8. Range [-3.892850399017334, 2.154141664505005]. Convert image to uint8 prior to saving to suppress this warning.\n",
      "Lossy conversion from float32 to uint8. Range [-4.01141881942749, 2.272710084915161]. Convert image to uint8 prior to saving to suppress this warning.\n",
      "Lossy conversion from float32 to uint8. Range [-4.0904645919799805, 2.19366455078125]. Convert image to uint8 prior to saving to suppress this warning.\n",
      "Lossy conversion from float32 to uint8. Range [-4.209033012390137, 2.233187198638916]. Convert image to uint8 prior to saving to suppress this warning.\n",
      "Lossy conversion from float32 to uint8. Range [-4.327601432800293, 2.1146187782287598]. Convert image to uint8 prior to saving to suppress this warning.\n",
      "Lossy conversion from float32 to uint8. Range [-4.288078784942627, 2.154141664505005]. Convert image to uint8 prior to saving to suppress this warning.\n",
      "Lossy conversion from float32 to uint8. Range [-4.485692501068115, 2.0355732440948486]. Convert image to uint8 prior to saving to suppress this warning.\n",
      "Lossy conversion from float32 to uint8. Range [-4.248555660247803, 2.0355732440948486]. Convert image to uint8 prior to saving to suppress this warning.\n",
      "Lossy conversion from float32 to uint8. Range [-4.050941467285156, 2.0355732440948486]. Convert image to uint8 prior to saving to suppress this warning.\n",
      "Lossy conversion from float32 to uint8. Range [-4.0904645919799805, 1.9565274715423584]. Convert image to uint8 prior to saving to suppress this warning.\n",
      "Lossy conversion from float32 to uint8. Range [-4.1299872398376465, 1.9960503578186035]. Convert image to uint8 prior to saving to suppress this warning.\n",
      "Lossy conversion from float32 to uint8. Range [-4.01141881942749, 2.0750958919525146]. Convert image to uint8 prior to saving to suppress this warning.\n",
      "Lossy conversion from float32 to uint8. Range [-3.932373285293579, 2.154141664505005]. Convert image to uint8 prior to saving to suppress this warning.\n",
      "Lossy conversion from float32 to uint8. Range [-3.932373285293579, 2.0355732440948486]. Convert image to uint8 prior to saving to suppress this warning.\n",
      "Lossy conversion from float32 to uint8. Range [-4.01141881942749, 2.154141664505005]. Convert image to uint8 prior to saving to suppress this warning.\n",
      "Lossy conversion from float32 to uint8. Range [-4.01141881942749, 2.3122329711914062]. Convert image to uint8 prior to saving to suppress this warning.\n",
      "Lossy conversion from float32 to uint8. Range [-3.971895933151245, 2.154141664505005]. Convert image to uint8 prior to saving to suppress this warning.\n",
      "Lossy conversion from float32 to uint8. Range [-3.853327512741089, 2.0750958919525146]. Convert image to uint8 prior to saving to suppress this warning.\n",
      "Lossy conversion from float32 to uint8. Range [-4.01141881942749, 2.19366455078125]. Convert image to uint8 prior to saving to suppress this warning.\n",
      "Lossy conversion from float32 to uint8. Range [-3.932373285293579, 2.154141664505005]. Convert image to uint8 prior to saving to suppress this warning.\n",
      "Lossy conversion from float32 to uint8. Range [-4.01141881942749, 2.0750958919525146]. Convert image to uint8 prior to saving to suppress this warning.\n",
      "Lossy conversion from float32 to uint8. Range [-3.971895933151245, 2.154141664505005]. Convert image to uint8 prior to saving to suppress this warning.\n",
      "Lossy conversion from float32 to uint8. Range [-4.01141881942749, 2.154141664505005]. Convert image to uint8 prior to saving to suppress this warning.\n",
      "Lossy conversion from float32 to uint8. Range [-4.169510364532471, 2.1146187782287598]. Convert image to uint8 prior to saving to suppress this warning.\n",
      "Lossy conversion from float32 to uint8. Range [-4.169510364532471, 2.1146187782287598]. Convert image to uint8 prior to saving to suppress this warning.\n",
      "Lossy conversion from float32 to uint8. Range [-4.0904645919799805, 2.0750958919525146]. Convert image to uint8 prior to saving to suppress this warning.\n",
      "Lossy conversion from float32 to uint8. Range [-4.050941467285156, 2.0750958919525146]. Convert image to uint8 prior to saving to suppress this warning.\n",
      "Lossy conversion from float32 to uint8. Range [-4.050941467285156, 2.0750958919525146]. Convert image to uint8 prior to saving to suppress this warning.\n",
      "Lossy conversion from float32 to uint8. Range [-3.892850399017334, 2.0355732440948486]. Convert image to uint8 prior to saving to suppress this warning.\n",
      "Lossy conversion from float32 to uint8. Range [-3.932373285293579, 2.0355732440948486]. Convert image to uint8 prior to saving to suppress this warning.\n",
      "Lossy conversion from float32 to uint8. Range [-3.853327512741089, 2.0750958919525146]. Convert image to uint8 prior to saving to suppress this warning.\n",
      "Lossy conversion from float32 to uint8. Range [-3.853327512741089, 2.0750958919525146]. Convert image to uint8 prior to saving to suppress this warning.\n",
      "Lossy conversion from float32 to uint8. Range [-3.892850399017334, 1.9565274715423584]. Convert image to uint8 prior to saving to suppress this warning.\n",
      "Lossy conversion from float32 to uint8. Range [-3.853327512741089, 2.0355732440948486]. Convert image to uint8 prior to saving to suppress this warning.\n",
      "Lossy conversion from float32 to uint8. Range [-3.8138046264648438, 2.0355732440948486]. Convert image to uint8 prior to saving to suppress this warning.\n"
     ]
    }
   ],
   "source": [
    "imageio.mimsave('./animation.gif', val[0][0], fps=10)"
   ]
  },
  {
   "cell_type": "code",
   "execution_count": 29,
   "id": "5235b6b8",
   "metadata": {},
   "outputs": [
    {
     "data": {
      "text/plain": [
       "<matplotlib.image.AxesImage at 0x2a9a7167c10>"
      ]
     },
     "execution_count": 29,
     "metadata": {},
     "output_type": "execute_result"
    },
    {
     "data": {
      "image/png": "[encoded data removed]",
      "text/plain": [
       "<Figure size 640x480 with 1 Axes>"
      ]
     },
     "metadata": {},
     "output_type": "display_data"
    }
   ],
   "source": [
    "# 0:videos, 0: 1st video out of the batch,  0: return the first frame in the video \n",
    "plt.imshow(val[0][0][35])"
   ]
  },
  {
   "cell_type": "code",
   "execution_count": 30,
   "id": "f4778b19",
   "metadata": {},
   "outputs": [
    {
     "data": {
      "text/plain": [
       "<tf.Tensor: shape=(), dtype=string, numpy=b'set white with p four please'>"
      ]
     },
     "execution_count": 30,
     "metadata": {},
     "output_type": "execute_result"
    }
   ],
   "source": [
    "tf.strings.reduce_join([num_to_char(word) for word in val[1][0]])"
   ]
  },
  {
   "cell_type": "markdown",
   "id": "58a84670",
   "metadata": {},
   "source": [
    "3. Deep Neural Network"
   ]
  },
  {
   "cell_type": "code",
   "execution_count": 31,
   "id": "7ab6e303",
   "metadata": {},
   "outputs": [],
   "source": [
    "from tensorflow.keras.models import Sequential\n",
    "from tensorflow.keras.layers import Conv3D , LSTM, Dense,Dropout ,Bidirectional,Activation,MaxPool3D,Reshape,SpatialDropout3D,TimeDistributed,Flatten\n",
    "from tensorflow.keras.optimizers import Adam\n",
    "from tensorflow.keras.callbacks import ModelCheckpoint,LearningRateScheduler\n"
   ]
  },
  {
   "cell_type": "code",
   "execution_count": 32,
   "id": "ffa00a74",
   "metadata": {},
   "outputs": [
    {
     "data": {
      "text/plain": [
       "(75, 46, 140, 1)"
      ]
     },
     "execution_count": 32,
     "metadata": {},
     "output_type": "execute_result"
    }
   ],
   "source": [
    "data.as_numpy_iterator().next()[0][0].shape"
   ]
  },
  {
   "cell_type": "code",
   "execution_count": 33,
   "id": "cb5c4f4e",
   "metadata": {},
   "outputs": [
    {
     "name": "stdout",
     "output_type": "stream",
     "text": [
      "INFO:tensorflow:Mixed precision compatibility check (mixed_float16): OK\n",
      "Your GPU will likely run quickly with dtype policy mixed_float16 as it has compute capability of at least 7.0. Your GPU: NVIDIA GeForce RTX 3070 Ti Laptop GPU, compute capability 8.6\n"
     ]
    }
   ],
   "source": [
    "from tensorflow.keras import mixed_precision\n",
    "\n",
    "# ✅ Enable mixed precision to leverage your GPU's tensor cores\n",
    "mixed_precision.set_global_policy('mixed_float16')\n",
    "\n",
    "model = Sequential()\n",
    "\n",
    "model.add(Conv3D(128, 3, input_shape=(75, 46, 140, 1), padding='same'))\n",
    "model.add(Activation('relu'))\n",
    "model.add(MaxPool3D((1, 2, 2)))\n",
    "\n",
    "model.add(Conv3D(256, 3, padding='same'))\n",
    "model.add(Activation('relu'))\n",
    "model.add(MaxPool3D((1, 2, 2)))\n",
    "\n",
    "model.add(Conv3D(75, 3, padding='same'))\n",
    "model.add(Activation('relu'))\n",
    "model.add(MaxPool3D((1, 2, 2)))\n",
    "\n",
    "model.add(TimeDistributed(Flatten()))\n",
    "\n",
    "model.add(Bidirectional(LSTM(128, kernel_initializer='Orthogonal', return_sequences=True)))\n",
    "model.add(Dropout(0.5))\n",
    "\n",
    "# ⚠️ Final Dense layer must output float32 when using mixed precision\n",
    "model.add(Dense(char_to_num.vocabulary_size() + 1,\n",
    "                kernel_initializer='he_normal',\n",
    "                activation='softmax',\n",
    "                dtype='float32'))  # Cast final output to float32\n"
   ]
  },
  {
   "cell_type": "code",
   "execution_count": 34,
   "id": "83e60c10",
   "metadata": {},
   "outputs": [
    {
     "name": "stdout",
     "output_type": "stream",
     "text": [
      "Model: \"sequential\"\n",
      "_________________________________________________________________\n",
      " Layer (type)                Output Shape              Param #   \n",
      "=================================================================\n",
      " conv3d (Conv3D)             (None, 75, 46, 140, 128)  3584      \n",
      "                                                                 \n",
      " activation (Activation)     (None, 75, 46, 140, 128)  0         \n",
      "                                                                 \n",
      " max_pooling3d (MaxPooling3D  (None, 75, 23, 70, 128)  0         \n",
      " )                                                               \n",
      "                                                                 \n",
      " conv3d_1 (Conv3D)           (None, 75, 23, 70, 256)   884992    \n",
      "                                                                 \n",
      " activation_1 (Activation)   (None, 75, 23, 70, 256)   0         \n",
      "                                                                 \n",
      " max_pooling3d_1 (MaxPooling  (None, 75, 11, 35, 256)  0         \n",
      " 3D)                                                             \n",
      "                                                                 \n",
      " conv3d_2 (Conv3D)           (None, 75, 11, 35, 75)    518475    \n",
      "                                                                 \n",
      " activation_2 (Activation)   (None, 75, 11, 35, 75)    0         \n",
      "                                                                 \n",
      " max_pooling3d_2 (MaxPooling  (None, 75, 5, 17, 75)    0         \n",
      " 3D)                                                             \n",
      "                                                                 \n",
      " time_distributed (TimeDistr  (None, 75, 6375)         0         \n",
      " ibuted)                                                         \n",
      "                                                                 \n",
      " bidirectional (Bidirectiona  (None, 75, 256)          6660096   \n",
      " l)                                                              \n",
      "                                                                 \n",
      " dropout (Dropout)           (None, 75, 256)           0         \n",
      "                                                                 \n",
      " dense (Dense)               (None, 75, 41)            10537     \n",
      "                                                                 \n",
      "=================================================================\n",
      "Total params: 8,077,684\n",
      "Trainable params: 8,077,684\n",
      "Non-trainable params: 0\n",
      "_________________________________________________________________\n"
     ]
    }
   ],
   "source": [
    "model.summary()"
   ]
  },
  {
   "cell_type": "code",
   "execution_count": 35,
   "id": "03bbbe6d",
   "metadata": {},
   "outputs": [
    {
     "name": "stdout",
     "output_type": "stream",
     "text": [
      "1/1 [==============================] - 3s 3s/step\n"
     ]
    }
   ],
   "source": [
    "yhat = model.predict(val[0])"
   ]
  },
  {
   "cell_type": "code",
   "execution_count": 36,
   "id": "bfa616e2",
   "metadata": {},
   "outputs": [
    {
     "data": {
      "text/plain": [
       "<tf.Tensor: shape=(), dtype=string, numpy=b'7ppppppppppppppppppppuppppppppppppppppppppppppppppppppppppppppppppppppppppu'>"
      ]
     },
     "execution_count": 36,
     "metadata": {},
     "output_type": "execute_result"
    }
   ],
   "source": [
    "tf.strings.reduce_join([num_to_char(tf.argmax(x)) for x in yhat[0]])"
   ]
  },
  {
   "cell_type": "code",
   "execution_count": 37,
   "id": "8666418c",
   "metadata": {},
   "outputs": [
    {
     "data": {
      "text/plain": [
       "(None, 75, 46, 140, 1)"
      ]
     },
     "execution_count": 37,
     "metadata": {},
     "output_type": "execute_result"
    }
   ],
   "source": [
    "model.input_shape"
   ]
  },
  {
   "cell_type": "code",
   "execution_count": 38,
   "id": "b82454c7",
   "metadata": {},
   "outputs": [
    {
     "data": {
      "text/plain": [
       "TensorShape([None, 75, 41])"
      ]
     },
     "execution_count": 38,
     "metadata": {},
     "output_type": "execute_result"
    }
   ],
   "source": [
    "model.output.shape"
   ]
  },
  {
   "cell_type": "markdown",
   "id": "0d42729e",
   "metadata": {},
   "source": [
    "Setup Training"
   ]
  },
  {
   "cell_type": "code",
   "execution_count": 39,
   "id": "355358ca",
   "metadata": {},
   "outputs": [],
   "source": [
    "import tensorflow as tf\n",
    "\n",
    "def CTCLoss(y_true, y_pred):\n",
    "    # Get batch size\n",
    "    batch_len = tf.shape(y_true)[0]\n",
    "\n",
    "    # Get input and label lengths\n",
    "    input_length = tf.fill([batch_len, 1], tf.shape(y_pred)[1])   # Time steps\n",
    "    label_length = tf.fill([batch_len, 1], tf.shape(y_true)[1])   # Label length\n",
    "\n",
    "    # Convert to int64 as required by ctc_batch_cost\n",
    "    input_length = tf.cast(input_length, tf.int64)\n",
    "    label_length = tf.cast(label_length, tf.int64)\n",
    "\n",
    "    # Compute the CTC loss\n",
    "    loss = tf.keras.backend.ctc_batch_cost(y_true, y_pred, input_length, label_length)\n",
    "    return loss\n"
   ]
  },
  {
   "cell_type": "code",
   "execution_count": 40,
   "id": "2c4514f7",
   "metadata": {},
   "outputs": [],
   "source": [
    "class ProduceExample(tf.keras.callbacks.Callback): \n",
    "    def __init__(self, dataset) -> None: \n",
    "        self.dataset = dataset.as_numpy_iterator()\n",
    "    \n",
    "    def on_epoch_end(self, epoch, logs=None) -> None:\n",
    "        data = self.dataset.next()\n",
    "        yhat = self.model.predict(data[0])\n",
    "        decoded = tf.keras.backend.ctc_decode(yhat, [75,75], greedy=False)[0][0].numpy()\n",
    "        for x in range(len(yhat)):           \n",
    "            print('Original:', tf.strings.reduce_join(num_to_char(data[1][x])).numpy().decode('utf-8'))\n",
    "            print('Prediction:', tf.strings.reduce_join(num_to_char(decoded[x])).numpy().decode('utf-8'))\n",
    "            print('~'*100)"
   ]
  },
  {
   "cell_type": "code",
   "execution_count": 41,
   "id": "efcee59c",
   "metadata": {},
   "outputs": [],
   "source": [
    "model.compile(optimizer=Adam(learning_rate=0.0001),loss=CTCLoss)"
   ]
  },
  {
   "cell_type": "code",
   "execution_count": 42,
   "id": "8a5ae035",
   "metadata": {},
   "outputs": [],
   "source": [
    "checkpoint_callback = ModelCheckpoint(os.path.join('models','checkpoints'),monitor='loss',save_weights_only=True)"
   ]
  },
  {
   "cell_type": "code",
   "execution_count": 43,
   "id": "0c9dbbb0",
   "metadata": {},
   "outputs": [],
   "source": [
    "def scheduler(epoch, lr):\n",
    "    if epoch < 30:\n",
    "        return lr\n",
    "    else:\n",
    "        return lr * tf.math.exp(-0.1)"
   ]
  },
  {
   "cell_type": "code",
   "execution_count": 44,
   "id": "b8177677",
   "metadata": {},
   "outputs": [],
   "source": [
    "schedule_callback = LearningRateScheduler(scheduler)"
   ]
  },
  {
   "cell_type": "code",
   "execution_count": 45,
   "id": "8d429b4e",
   "metadata": {},
   "outputs": [],
   "source": [
    "example_callback = ProduceExample(data)"
   ]
  },
  {
   "cell_type": "code",
   "execution_count": null,
   "id": "1c31edaa",
   "metadata": {},
   "outputs": [
    {
     "name": "stdout",
     "output_type": "stream",
     "text": [
      "Epoch 1/100\n",
      "450/450 [==============================] - ETA: 0s - loss: 85.8784"
     ]
    }
   ],
   "source": [
    "model.fit(train, validation_data=test, epochs=100, callbacks=[checkpoint_callback, schedule_callback, example_callback])"
   ]
  }
 ],
 "metadata": {
  "kernelspec": {
   "display_name": "tf",
   "language": "python",
   "name": "tf"
  },
  "language_info": {
   "codemirror_mode": {
    "name": "ipython",
    "version": 3
   },
   "file_extension": ".py",
   "mimetype": "text/x-python",
   "name": "python",
   "nbconvert_exporter": "python",
   "pygments_lexer": "ipython3",
   "version": "3.9.21"
  }
 },
 "nbformat": 4,
 "nbformat_minor": 5
}
